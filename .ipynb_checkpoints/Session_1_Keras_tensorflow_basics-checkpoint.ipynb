{
  "cells": [
    {
      "cell_type": "markdown",
      "metadata": {
        "id": "ygEvw3SWGg6V"
      },
      "source": [
        "# SESSION-1\n",
        "## How to create your first deep learning neural network model in Python using Keras?\n",
        "(Remember to choose GPU in Runtime if not already selected. Runtime --> Change Runtime Type --> Hardware accelerator --> GPU)\n",
        "\n"
      ]
    },
    {
      "cell_type": "markdown",
      "metadata": {
        "id": "locid00KGg6c"
      },
      "source": [
        "# For today's session, we are going to use the **Pima Indians**  diabetes dataset comprising 9 parameters. This is a standard machine learning dataset from the UCI Machine Learning repository.This dataset is originally from the National Institute of Diabetes and Digestive and Kidney Diseases. The objective of the dataset is to diagnostically predict whether or not a patient has diabetes, based on certain diagnostic measurements included in the dataset.The data contains patient medical record of Pima Indians and classify if they have onset of diabetes within five years or not."
      ]
    },
    {
      "cell_type": "markdown",
      "metadata": {
        "id": "WvDr1tmbGg6d"
      },
      "source": [
        "# Dataset Description\n",
        "## -------------------------------------------------------------------------------------------------\n",
        "### Input Variables (X):\n",
        "\n",
        "1. Number of times pregnant\n",
        "2. Plasma glucose concentration a 2 hours in an oral glucose tolerance test\n",
        "3. Diastolic blood pressure (mm Hg)\n",
        "4. Triceps skin fold thickness (mm)\n",
        "5. 2-Hour serum insulin (mu U/ml)\n",
        "6. Body mass index (weight in kg/(height in m)^2)\n",
        "7. Diabetes pedigree function\n",
        "8. Age (years)\n",
        "\n",
        "### Output Variables (y):\n",
        "9. Class variable (0 or 1)\n",
        "## ---------------------------------------------------------------------------------------------------"
      ]
    },
    {
      "cell_type": "markdown",
      "metadata": {
        "id": "kTbVRXviGg6e"
      },
      "source": [
        "# IMPORT LIBRARIES"
      ]
    },
    {
      "cell_type": "code",
      "execution_count": null,
      "metadata": {
        "id": "UPvuVTUZGg6e"
      },
      "outputs": [],
      "source": [
        "# first neural network with keras tutorial\n",
        "from numpy import loadtxt\n",
        "import tensorflow as tf\n",
        "from keras.models import Sequential\n",
        "from keras.layers import Dense\n",
        "from keras import optimizers\n",
        "import matplotlib.pyplot as plt\n",
        "import seaborn as sns\n",
        "import sklearn\n",
        "from sklearn.model_selection import train_test_split\n",
        "from sklearn.metrics import accuracy_score\n",
        "from keras.callbacks import ModelCheckpoint\n"
      ]
    },
    {
      "cell_type": "code",
      "execution_count": null,
      "metadata": {
        "id": "IJWID6kfGg6f"
      },
      "outputs": [],
      "source": [
        "sns.set_style(\"darkgrid\")"
      ]
    },
    {
      "cell_type": "markdown",
      "metadata": {
        "id": "plBOjScWGg6g"
      },
      "source": [
        "# LOAD THE DATASET"
      ]
    },
    {
      "cell_type": "code",
      "execution_count": null,
      "metadata": {
        "id": "-qFcO5YOGg6h",
        "colab": {
          "base_uri": "https://localhost:8080/"
        },
        "outputId": "8fb6d165-db3f-46a3-d00a-3c38350a8c4d"
      },
      "outputs": [
        {
          "output_type": "stream",
          "name": "stdout",
          "text": [
            "Mounted at /content/drive\n"
          ]
        }
      ],
      "source": [
        "from google.colab import drive\n",
        "drive.mount('/content/drive')\n",
        "\n",
        "import pandas as pd\n",
        "dataset = pd.read_csv('/content/drive/MyDrive/pima-indians-diabetes.csv', delimiter=',')"
      ]
    },
    {
      "cell_type": "code",
      "source": [
        "from google.colab import drive\n",
        "drive.mount('/content/drive')"
      ],
      "metadata": {
        "colab": {
          "base_uri": "https://localhost:8080/"
        },
        "id": "xYHqbxRIue53",
        "outputId": "d181e69b-9318-415a-f128-ec17f6f73dd8"
      },
      "execution_count": null,
      "outputs": [
        {
          "output_type": "stream",
          "name": "stdout",
          "text": [
            "Drive already mounted at /content/drive; to attempt to forcibly remount, call drive.mount(\"/content/drive\", force_remount=True).\n"
          ]
        }
      ]
    },
    {
      "cell_type": "code",
      "execution_count": null,
      "metadata": {
        "id": "FMEo79vnGg6h",
        "colab": {
          "base_uri": "https://localhost:8080/",
          "height": 487
        },
        "outputId": "1e2070e3-a7f9-492f-8743-5d5dbc67021e"
      },
      "outputs": [
        {
          "output_type": "execute_result",
          "data": {
            "text/plain": [
              "     NoOfPreg  GlucoseTolerance   BP  TricepSkinThick  SerumInsulin   BMI  \\\n",
              "0           6               148   72               35             0  33.6   \n",
              "1           1                85   66               29             0  26.6   \n",
              "2           8               183   64                0             0  23.3   \n",
              "3           1                89   66               23            94  28.1   \n",
              "4           0               137   40               35           168  43.1   \n",
              "..        ...               ...  ...              ...           ...   ...   \n",
              "763        10               101   76               48           180  32.9   \n",
              "764         2               122   70               27             0  36.8   \n",
              "765         5               121   72               23           112  26.2   \n",
              "766         1               126   60                0             0  30.1   \n",
              "767         1                93   70               31             0  30.4   \n",
              "\n",
              "     DiabetesPedigree  Age  DiabetesProbability  \n",
              "0               0.627   50                    1  \n",
              "1               0.351   31                    0  \n",
              "2               0.672   32                    1  \n",
              "3               0.167   21                    0  \n",
              "4               2.288   33                    1  \n",
              "..                ...  ...                  ...  \n",
              "763             0.171   63                    0  \n",
              "764             0.340   27                    0  \n",
              "765             0.245   30                    0  \n",
              "766             0.349   47                    1  \n",
              "767             0.315   23                    0  \n",
              "\n",
              "[768 rows x 9 columns]"
            ],
            "text/html": [
              "\n",
              "  <div id=\"df-9b62e18c-4d00-47b2-bcdb-83857d32c2ba\">\n",
              "    <div class=\"colab-df-container\">\n",
              "      <div>\n",
              "<style scoped>\n",
              "    .dataframe tbody tr th:only-of-type {\n",
              "        vertical-align: middle;\n",
              "    }\n",
              "\n",
              "    .dataframe tbody tr th {\n",
              "        vertical-align: top;\n",
              "    }\n",
              "\n",
              "    .dataframe thead th {\n",
              "        text-align: right;\n",
              "    }\n",
              "</style>\n",
              "<table border=\"1\" class=\"dataframe\">\n",
              "  <thead>\n",
              "    <tr style=\"text-align: right;\">\n",
              "      <th></th>\n",
              "      <th>NoOfPreg</th>\n",
              "      <th>GlucoseTolerance</th>\n",
              "      <th>BP</th>\n",
              "      <th>TricepSkinThick</th>\n",
              "      <th>SerumInsulin</th>\n",
              "      <th>BMI</th>\n",
              "      <th>DiabetesPedigree</th>\n",
              "      <th>Age</th>\n",
              "      <th>DiabetesProbability</th>\n",
              "    </tr>\n",
              "  </thead>\n",
              "  <tbody>\n",
              "    <tr>\n",
              "      <th>0</th>\n",
              "      <td>6</td>\n",
              "      <td>148</td>\n",
              "      <td>72</td>\n",
              "      <td>35</td>\n",
              "      <td>0</td>\n",
              "      <td>33.6</td>\n",
              "      <td>0.627</td>\n",
              "      <td>50</td>\n",
              "      <td>1</td>\n",
              "    </tr>\n",
              "    <tr>\n",
              "      <th>1</th>\n",
              "      <td>1</td>\n",
              "      <td>85</td>\n",
              "      <td>66</td>\n",
              "      <td>29</td>\n",
              "      <td>0</td>\n",
              "      <td>26.6</td>\n",
              "      <td>0.351</td>\n",
              "      <td>31</td>\n",
              "      <td>0</td>\n",
              "    </tr>\n",
              "    <tr>\n",
              "      <th>2</th>\n",
              "      <td>8</td>\n",
              "      <td>183</td>\n",
              "      <td>64</td>\n",
              "      <td>0</td>\n",
              "      <td>0</td>\n",
              "      <td>23.3</td>\n",
              "      <td>0.672</td>\n",
              "      <td>32</td>\n",
              "      <td>1</td>\n",
              "    </tr>\n",
              "    <tr>\n",
              "      <th>3</th>\n",
              "      <td>1</td>\n",
              "      <td>89</td>\n",
              "      <td>66</td>\n",
              "      <td>23</td>\n",
              "      <td>94</td>\n",
              "      <td>28.1</td>\n",
              "      <td>0.167</td>\n",
              "      <td>21</td>\n",
              "      <td>0</td>\n",
              "    </tr>\n",
              "    <tr>\n",
              "      <th>4</th>\n",
              "      <td>0</td>\n",
              "      <td>137</td>\n",
              "      <td>40</td>\n",
              "      <td>35</td>\n",
              "      <td>168</td>\n",
              "      <td>43.1</td>\n",
              "      <td>2.288</td>\n",
              "      <td>33</td>\n",
              "      <td>1</td>\n",
              "    </tr>\n",
              "    <tr>\n",
              "      <th>...</th>\n",
              "      <td>...</td>\n",
              "      <td>...</td>\n",
              "      <td>...</td>\n",
              "      <td>...</td>\n",
              "      <td>...</td>\n",
              "      <td>...</td>\n",
              "      <td>...</td>\n",
              "      <td>...</td>\n",
              "      <td>...</td>\n",
              "    </tr>\n",
              "    <tr>\n",
              "      <th>763</th>\n",
              "      <td>10</td>\n",
              "      <td>101</td>\n",
              "      <td>76</td>\n",
              "      <td>48</td>\n",
              "      <td>180</td>\n",
              "      <td>32.9</td>\n",
              "      <td>0.171</td>\n",
              "      <td>63</td>\n",
              "      <td>0</td>\n",
              "    </tr>\n",
              "    <tr>\n",
              "      <th>764</th>\n",
              "      <td>2</td>\n",
              "      <td>122</td>\n",
              "      <td>70</td>\n",
              "      <td>27</td>\n",
              "      <td>0</td>\n",
              "      <td>36.8</td>\n",
              "      <td>0.340</td>\n",
              "      <td>27</td>\n",
              "      <td>0</td>\n",
              "    </tr>\n",
              "    <tr>\n",
              "      <th>765</th>\n",
              "      <td>5</td>\n",
              "      <td>121</td>\n",
              "      <td>72</td>\n",
              "      <td>23</td>\n",
              "      <td>112</td>\n",
              "      <td>26.2</td>\n",
              "      <td>0.245</td>\n",
              "      <td>30</td>\n",
              "      <td>0</td>\n",
              "    </tr>\n",
              "    <tr>\n",
              "      <th>766</th>\n",
              "      <td>1</td>\n",
              "      <td>126</td>\n",
              "      <td>60</td>\n",
              "      <td>0</td>\n",
              "      <td>0</td>\n",
              "      <td>30.1</td>\n",
              "      <td>0.349</td>\n",
              "      <td>47</td>\n",
              "      <td>1</td>\n",
              "    </tr>\n",
              "    <tr>\n",
              "      <th>767</th>\n",
              "      <td>1</td>\n",
              "      <td>93</td>\n",
              "      <td>70</td>\n",
              "      <td>31</td>\n",
              "      <td>0</td>\n",
              "      <td>30.4</td>\n",
              "      <td>0.315</td>\n",
              "      <td>23</td>\n",
              "      <td>0</td>\n",
              "    </tr>\n",
              "  </tbody>\n",
              "</table>\n",
              "<p>768 rows × 9 columns</p>\n",
              "</div>\n",
              "      <button class=\"colab-df-convert\" onclick=\"convertToInteractive('df-9b62e18c-4d00-47b2-bcdb-83857d32c2ba')\"\n",
              "              title=\"Convert this dataframe to an interactive table.\"\n",
              "              style=\"display:none;\">\n",
              "        \n",
              "  <svg xmlns=\"http://www.w3.org/2000/svg\" height=\"24px\"viewBox=\"0 0 24 24\"\n",
              "       width=\"24px\">\n",
              "    <path d=\"M0 0h24v24H0V0z\" fill=\"none\"/>\n",
              "    <path d=\"M18.56 5.44l.94 2.06.94-2.06 2.06-.94-2.06-.94-.94-2.06-.94 2.06-2.06.94zm-11 1L8.5 8.5l.94-2.06 2.06-.94-2.06-.94L8.5 2.5l-.94 2.06-2.06.94zm10 10l.94 2.06.94-2.06 2.06-.94-2.06-.94-.94-2.06-.94 2.06-2.06.94z\"/><path d=\"M17.41 7.96l-1.37-1.37c-.4-.4-.92-.59-1.43-.59-.52 0-1.04.2-1.43.59L10.3 9.45l-7.72 7.72c-.78.78-.78 2.05 0 2.83L4 21.41c.39.39.9.59 1.41.59.51 0 1.02-.2 1.41-.59l7.78-7.78 2.81-2.81c.8-.78.8-2.07 0-2.86zM5.41 20L4 18.59l7.72-7.72 1.47 1.35L5.41 20z\"/>\n",
              "  </svg>\n",
              "      </button>\n",
              "      \n",
              "  <style>\n",
              "    .colab-df-container {\n",
              "      display:flex;\n",
              "      flex-wrap:wrap;\n",
              "      gap: 12px;\n",
              "    }\n",
              "\n",
              "    .colab-df-convert {\n",
              "      background-color: #E8F0FE;\n",
              "      border: none;\n",
              "      border-radius: 50%;\n",
              "      cursor: pointer;\n",
              "      display: none;\n",
              "      fill: #1967D2;\n",
              "      height: 32px;\n",
              "      padding: 0 0 0 0;\n",
              "      width: 32px;\n",
              "    }\n",
              "\n",
              "    .colab-df-convert:hover {\n",
              "      background-color: #E2EBFA;\n",
              "      box-shadow: 0px 1px 2px rgba(60, 64, 67, 0.3), 0px 1px 3px 1px rgba(60, 64, 67, 0.15);\n",
              "      fill: #174EA6;\n",
              "    }\n",
              "\n",
              "    [theme=dark] .colab-df-convert {\n",
              "      background-color: #3B4455;\n",
              "      fill: #D2E3FC;\n",
              "    }\n",
              "\n",
              "    [theme=dark] .colab-df-convert:hover {\n",
              "      background-color: #434B5C;\n",
              "      box-shadow: 0px 1px 3px 1px rgba(0, 0, 0, 0.15);\n",
              "      filter: drop-shadow(0px 1px 2px rgba(0, 0, 0, 0.3));\n",
              "      fill: #FFFFFF;\n",
              "    }\n",
              "  </style>\n",
              "\n",
              "      <script>\n",
              "        const buttonEl =\n",
              "          document.querySelector('#df-9b62e18c-4d00-47b2-bcdb-83857d32c2ba button.colab-df-convert');\n",
              "        buttonEl.style.display =\n",
              "          google.colab.kernel.accessAllowed ? 'block' : 'none';\n",
              "\n",
              "        async function convertToInteractive(key) {\n",
              "          const element = document.querySelector('#df-9b62e18c-4d00-47b2-bcdb-83857d32c2ba');\n",
              "          const dataTable =\n",
              "            await google.colab.kernel.invokeFunction('convertToInteractive',\n",
              "                                                     [key], {});\n",
              "          if (!dataTable) return;\n",
              "\n",
              "          const docLinkHtml = 'Like what you see? Visit the ' +\n",
              "            '<a target=\"_blank\" href=https://colab.research.google.com/notebooks/data_table.ipynb>data table notebook</a>'\n",
              "            + ' to learn more about interactive tables.';\n",
              "          element.innerHTML = '';\n",
              "          dataTable['output_type'] = 'display_data';\n",
              "          await google.colab.output.renderOutput(dataTable, element);\n",
              "          const docLink = document.createElement('div');\n",
              "          docLink.innerHTML = docLinkHtml;\n",
              "          element.appendChild(docLink);\n",
              "        }\n",
              "      </script>\n",
              "    </div>\n",
              "  </div>\n",
              "  "
            ]
          },
          "metadata": {},
          "execution_count": 4
        }
      ],
      "source": [
        "dataset"
      ]
    },
    {
      "cell_type": "markdown",
      "metadata": {
        "id": "1SslDzALGg6j"
      },
      "source": [
        "# INVESTIGATE/EXAMINE DATASET"
      ]
    },
    {
      "cell_type": "code",
      "execution_count": null,
      "metadata": {
        "id": "bDa22Pi-Gg6j",
        "colab": {
          "base_uri": "https://localhost:8080/"
        },
        "outputId": "c579a211-80cc-4e8c-ccf4-cd43cc6ad5c0"
      },
      "outputs": [
        {
          "output_type": "execute_result",
          "data": {
            "text/plain": [
              "(768, 9)"
            ]
          },
          "metadata": {},
          "execution_count": 5
        }
      ],
      "source": [
        "# print the shape of the data i.e. no. of records and no of columns\n",
        "dataset.shape"
      ]
    },
    {
      "cell_type": "code",
      "execution_count": null,
      "metadata": {
        "id": "o47pOYDKGg6k",
        "colab": {
          "base_uri": "https://localhost:8080/"
        },
        "outputId": "e54b0c35-b1ba-442f-986a-36805361879b"
      },
      "outputs": [
        {
          "output_type": "stream",
          "name": "stdout",
          "text": [
            "<class 'pandas.core.frame.DataFrame'>\n",
            "RangeIndex: 768 entries, 0 to 767\n",
            "Data columns (total 9 columns):\n",
            " #   Column               Non-Null Count  Dtype  \n",
            "---  ------               --------------  -----  \n",
            " 0   NoOfPreg             768 non-null    int64  \n",
            " 1   GlucoseTolerance     768 non-null    int64  \n",
            " 2    BP                  768 non-null    int64  \n",
            " 3   TricepSkinThick      768 non-null    int64  \n",
            " 4   SerumInsulin         768 non-null    int64  \n",
            " 5   BMI                  768 non-null    float64\n",
            " 6   DiabetesPedigree     768 non-null    float64\n",
            " 7   Age                  768 non-null    int64  \n",
            " 8   DiabetesProbability  768 non-null    int64  \n",
            "dtypes: float64(2), int64(7)\n",
            "memory usage: 54.1 KB\n"
          ]
        }
      ],
      "source": [
        "# lets print some basic information about the dataset\n",
        "dataset.info()"
      ]
    },
    {
      "cell_type": "code",
      "execution_count": null,
      "metadata": {
        "id": "TjY0e-FyGg6k",
        "colab": {
          "base_uri": "https://localhost:8080/",
          "height": 351
        },
        "outputId": "9b9c3356-74c3-4fb8-f309-fb31ec5e35db"
      },
      "outputs": [
        {
          "output_type": "stream",
          "name": "stderr",
          "text": [
            "/usr/local/lib/python3.8/dist-packages/seaborn/_decorators.py:36: FutureWarning: Pass the following variable as a keyword arg: x. From version 0.12, the only valid positional argument will be `data`, and passing other arguments without an explicit keyword will result in an error or misinterpretation.\n",
            "  warnings.warn(\n"
          ]
        },
        {
          "output_type": "execute_result",
          "data": {
            "text/plain": [
              "<matplotlib.axes._subplots.AxesSubplot at 0x7fcda48c1c40>"
            ]
          },
          "metadata": {},
          "execution_count": 7
        },
        {
          "output_type": "display_data",
          "data": {
            "text/plain": [
              "<Figure size 432x288 with 1 Axes>"
            ],
            "image/png": "[encoded data removed]"
          },
          "metadata": {}
        }
      ],
      "source": [
        "#Visualize the count of patients with having diabetes \n",
        "sns.countplot(dataset['DiabetesProbability'])"
      ]
    },
    {
      "cell_type": "markdown",
      "metadata": {
        "id": "WwGwSUJyGg6l"
      },
      "source": [
        "## a) Plot heatmap\n",
        "\"Heatmaps are used to show relationships between two variables, one plotted on each axis. By observing how cell colors change across each axis, you can observe if there are any patterns in value for one or both variables\" \n",
        "Reference: https://chartio.com/learn/charts/heatmap-complete-guide/#:~:text=Heatmaps%20are%20used%20to%20show,for%20one%20or%20both%20variables."
      ]
    },
    {
      "cell_type": "code",
      "execution_count": null,
      "metadata": {
        "id": "X2OmayjZGg6l",
        "colab": {
          "base_uri": "https://localhost:8080/",
          "height": 537
        },
        "outputId": "0c5de011-c755-4d39-d576-c2cb37353cec"
      },
      "outputs": [
        {
          "output_type": "execute_result",
          "data": {
            "text/plain": [
              "<matplotlib.axes._subplots.AxesSubplot at 0x7fcda47fa910>"
            ]
          },
          "metadata": {},
          "execution_count": 8
        },
        {
          "output_type": "display_data",
          "data": {
            "text/plain": [
              "<Figure size 720x504 with 2 Axes>"
            ],
            "image/png": "[encoded data removed]"
          },
          "metadata": {}
        }
      ],
      "source": [
        "plt.rcParams['figure.figsize']= (10,7)\n",
        "cor=dataset.corr()\n",
        "sns.heatmap(cor, xticklabels=cor.columns, yticklabels=cor.columns, annot=True, cmap=\"Blues\")"
      ]
    },
    {
      "cell_type": "markdown",
      "metadata": {
        "id": "CyjHkdrpGg6m"
      },
      "source": [
        "## b) describe the data (descriptive stats)"
      ]
    },
    {
      "cell_type": "code",
      "execution_count": null,
      "metadata": {
        "id": "Y6r_pgZcGg6m",
        "colab": {
          "base_uri": "https://localhost:8080/",
          "height": 364
        },
        "outputId": "2e39e575-7de3-4084-c40f-d80b8f93ebaf"
      },
      "outputs": [
        {
          "output_type": "execute_result",
          "data": {
            "text/plain": [
              "         NoOfPreg  GlucoseTolerance          BP  TricepSkinThick  \\\n",
              "count  768.000000        768.000000  768.000000       768.000000   \n",
              "mean     3.845052        120.894531   69.105469        20.536458   \n",
              "std      3.369578         31.972618   19.355807        15.952218   \n",
              "min      0.000000          0.000000    0.000000         0.000000   \n",
              "25%      1.000000         99.000000   62.000000         0.000000   \n",
              "50%      3.000000        117.000000   72.000000        23.000000   \n",
              "75%      6.000000        140.250000   80.000000        32.000000   \n",
              "max     17.000000        199.000000  122.000000        99.000000   \n",
              "\n",
              "       SerumInsulin         BMI  DiabetesPedigree         Age  \\\n",
              "count    768.000000  768.000000        768.000000  768.000000   \n",
              "mean      79.799479   31.992578          0.471876   33.240885   \n",
              "std      115.244002    7.884160          0.331329   11.760232   \n",
              "min        0.000000    0.000000          0.078000   21.000000   \n",
              "25%        0.000000   27.300000          0.243750   24.000000   \n",
              "50%       30.500000   32.000000          0.372500   29.000000   \n",
              "75%      127.250000   36.600000          0.626250   41.000000   \n",
              "max      846.000000   67.100000          2.420000   81.000000   \n",
              "\n",
              "       DiabetesProbability  \n",
              "count           768.000000  \n",
              "mean              0.348958  \n",
              "std               0.476951  \n",
              "min               0.000000  \n",
              "25%               0.000000  \n",
              "50%               0.000000  \n",
              "75%               1.000000  \n",
              "max               1.000000  "
            ],
            "text/html": [
              "\n",
              "  <div id=\"df-f1b439a1-408b-48db-a19b-790e4e84b916\">\n",
              "    <div class=\"colab-df-container\">\n",
              "      <div>\n",
              "<style scoped>\n",
              "    .dataframe tbody tr th:only-of-type {\n",
              "        vertical-align: middle;\n",
              "    }\n",
              "\n",
              "    .dataframe tbody tr th {\n",
              "        vertical-align: top;\n",
              "    }\n",
              "\n",
              "    .dataframe thead th {\n",
              "        text-align: right;\n",
              "    }\n",
              "</style>\n",
              "<table border=\"1\" class=\"dataframe\">\n",
              "  <thead>\n",
              "    <tr style=\"text-align: right;\">\n",
              "      <th></th>\n",
              "      <th>NoOfPreg</th>\n",
              "      <th>GlucoseTolerance</th>\n",
              "      <th>BP</th>\n",
              "      <th>TricepSkinThick</th>\n",
              "      <th>SerumInsulin</th>\n",
              "      <th>BMI</th>\n",
              "      <th>DiabetesPedigree</th>\n",
              "      <th>Age</th>\n",
              "      <th>DiabetesProbability</th>\n",
              "    </tr>\n",
              "  </thead>\n",
              "  <tbody>\n",
              "    <tr>\n",
              "      <th>count</th>\n",
              "      <td>768.000000</td>\n",
              "      <td>768.000000</td>\n",
              "      <td>768.000000</td>\n",
              "      <td>768.000000</td>\n",
              "      <td>768.000000</td>\n",
              "      <td>768.000000</td>\n",
              "      <td>768.000000</td>\n",
              "      <td>768.000000</td>\n",
              "      <td>768.000000</td>\n",
              "    </tr>\n",
              "    <tr>\n",
              "      <th>mean</th>\n",
              "      <td>3.845052</td>\n",
              "      <td>120.894531</td>\n",
              "      <td>69.105469</td>\n",
              "      <td>20.536458</td>\n",
              "      <td>79.799479</td>\n",
              "      <td>31.992578</td>\n",
              "      <td>0.471876</td>\n",
              "      <td>33.240885</td>\n",
              "      <td>0.348958</td>\n",
              "    </tr>\n",
              "    <tr>\n",
              "      <th>std</th>\n",
              "      <td>3.369578</td>\n",
              "      <td>31.972618</td>\n",
              "      <td>19.355807</td>\n",
              "      <td>15.952218</td>\n",
              "      <td>115.244002</td>\n",
              "      <td>7.884160</td>\n",
              "      <td>0.331329</td>\n",
              "      <td>11.760232</td>\n",
              "      <td>0.476951</td>\n",
              "    </tr>\n",
              "    <tr>\n",
              "      <th>min</th>\n",
              "      <td>0.000000</td>\n",
              "      <td>0.000000</td>\n",
              "      <td>0.000000</td>\n",
              "      <td>0.000000</td>\n",
              "      <td>0.000000</td>\n",
              "      <td>0.000000</td>\n",
              "      <td>0.078000</td>\n",
              "      <td>21.000000</td>\n",
              "      <td>0.000000</td>\n",
              "    </tr>\n",
              "    <tr>\n",
              "      <th>25%</th>\n",
              "      <td>1.000000</td>\n",
              "      <td>99.000000</td>\n",
              "      <td>62.000000</td>\n",
              "      <td>0.000000</td>\n",
              "      <td>0.000000</td>\n",
              "      <td>27.300000</td>\n",
              "      <td>0.243750</td>\n",
              "      <td>24.000000</td>\n",
              "      <td>0.000000</td>\n",
              "    </tr>\n",
              "    <tr>\n",
              "      <th>50%</th>\n",
              "      <td>3.000000</td>\n",
              "      <td>117.000000</td>\n",
              "      <td>72.000000</td>\n",
              "      <td>23.000000</td>\n",
              "      <td>30.500000</td>\n",
              "      <td>32.000000</td>\n",
              "      <td>0.372500</td>\n",
              "      <td>29.000000</td>\n",
              "      <td>0.000000</td>\n",
              "    </tr>\n",
              "    <tr>\n",
              "      <th>75%</th>\n",
              "      <td>6.000000</td>\n",
              "      <td>140.250000</td>\n",
              "      <td>80.000000</td>\n",
              "      <td>32.000000</td>\n",
              "      <td>127.250000</td>\n",
              "      <td>36.600000</td>\n",
              "      <td>0.626250</td>\n",
              "      <td>41.000000</td>\n",
              "      <td>1.000000</td>\n",
              "    </tr>\n",
              "    <tr>\n",
              "      <th>max</th>\n",
              "      <td>17.000000</td>\n",
              "      <td>199.000000</td>\n",
              "      <td>122.000000</td>\n",
              "      <td>99.000000</td>\n",
              "      <td>846.000000</td>\n",
              "      <td>67.100000</td>\n",
              "      <td>2.420000</td>\n",
              "      <td>81.000000</td>\n",
              "      <td>1.000000</td>\n",
              "    </tr>\n",
              "  </tbody>\n",
              "</table>\n",
              "</div>\n",
              "      <button class=\"colab-df-convert\" onclick=\"convertToInteractive('df-f1b439a1-408b-48db-a19b-790e4e84b916')\"\n",
              "              title=\"Convert this dataframe to an interactive table.\"\n",
              "              style=\"display:none;\">\n",
              "        \n",
              "  <svg xmlns=\"http://www.w3.org/2000/svg\" height=\"24px\"viewBox=\"0 0 24 24\"\n",
              "       width=\"24px\">\n",
              "    <path d=\"M0 0h24v24H0V0z\" fill=\"none\"/>\n",
              "    <path d=\"M18.56 5.44l.94 2.06.94-2.06 2.06-.94-2.06-.94-.94-2.06-.94 2.06-2.06.94zm-11 1L8.5 8.5l.94-2.06 2.06-.94-2.06-.94L8.5 2.5l-.94 2.06-2.06.94zm10 10l.94 2.06.94-2.06 2.06-.94-2.06-.94-.94-2.06-.94 2.06-2.06.94z\"/><path d=\"M17.41 7.96l-1.37-1.37c-.4-.4-.92-.59-1.43-.59-.52 0-1.04.2-1.43.59L10.3 9.45l-7.72 7.72c-.78.78-.78 2.05 0 2.83L4 21.41c.39.39.9.59 1.41.59.51 0 1.02-.2 1.41-.59l7.78-7.78 2.81-2.81c.8-.78.8-2.07 0-2.86zM5.41 20L4 18.59l7.72-7.72 1.47 1.35L5.41 20z\"/>\n",
              "  </svg>\n",
              "      </button>\n",
              "      \n",
              "  <style>\n",
              "    .colab-df-container {\n",
              "      display:flex;\n",
              "      flex-wrap:wrap;\n",
              "      gap: 12px;\n",
              "    }\n",
              "\n",
              "    .colab-df-convert {\n",
              "      background-color: #E8F0FE;\n",
              "      border: none;\n",
              "      border-radius: 50%;\n",
              "      cursor: pointer;\n",
              "      display: none;\n",
              "      fill: #1967D2;\n",
              "      height: 32px;\n",
              "      padding: 0 0 0 0;\n",
              "      width: 32px;\n",
              "    }\n",
              "\n",
              "    .colab-df-convert:hover {\n",
              "      background-color: #E2EBFA;\n",
              "      box-shadow: 0px 1px 2px rgba(60, 64, 67, 0.3), 0px 1px 3px 1px rgba(60, 64, 67, 0.15);\n",
              "      fill: #174EA6;\n",
              "    }\n",
              "\n",
              "    [theme=dark] .colab-df-convert {\n",
              "      background-color: #3B4455;\n",
              "      fill: #D2E3FC;\n",
              "    }\n",
              "\n",
              "    [theme=dark] .colab-df-convert:hover {\n",
              "      background-color: #434B5C;\n",
              "      box-shadow: 0px 1px 3px 1px rgba(0, 0, 0, 0.15);\n",
              "      filter: drop-shadow(0px 1px 2px rgba(0, 0, 0, 0.3));\n",
              "      fill: #FFFFFF;\n",
              "    }\n",
              "  </style>\n",
              "\n",
              "      <script>\n",
              "        const buttonEl =\n",
              "          document.querySelector('#df-f1b439a1-408b-48db-a19b-790e4e84b916 button.colab-df-convert');\n",
              "        buttonEl.style.display =\n",
              "          google.colab.kernel.accessAllowed ? 'block' : 'none';\n",
              "\n",
              "        async function convertToInteractive(key) {\n",
              "          const element = document.querySelector('#df-f1b439a1-408b-48db-a19b-790e4e84b916');\n",
              "          const dataTable =\n",
              "            await google.colab.kernel.invokeFunction('convertToInteractive',\n",
              "                                                     [key], {});\n",
              "          if (!dataTable) return;\n",
              "\n",
              "          const docLinkHtml = 'Like what you see? Visit the ' +\n",
              "            '<a target=\"_blank\" href=https://colab.research.google.com/notebooks/data_table.ipynb>data table notebook</a>'\n",
              "            + ' to learn more about interactive tables.';\n",
              "          element.innerHTML = '';\n",
              "          dataTable['output_type'] = 'display_data';\n",
              "          await google.colab.output.renderOutput(dataTable, element);\n",
              "          const docLink = document.createElement('div');\n",
              "          docLink.innerHTML = docLinkHtml;\n",
              "          element.appendChild(docLink);\n",
              "        }\n",
              "      </script>\n",
              "    </div>\n",
              "  </div>\n",
              "  "
            ]
          },
          "metadata": {},
          "execution_count": 9
        }
      ],
      "source": [
        "dataset.describe()"
      ]
    },
    {
      "cell_type": "markdown",
      "metadata": {
        "id": "1ebivYY0Gg6m"
      },
      "source": [
        "# INDICATE: WHAT IS x AND y?"
      ]
    },
    {
      "cell_type": "code",
      "execution_count": null,
      "metadata": {
        "id": "vFA1pP_GGg6m"
      },
      "outputs": [],
      "source": [
        "# split into input (X) and output (y) variables\n",
        "X=dataset[['NoOfPreg', 'GlucoseTolerance', ' BP', 'TricepSkinThick',\n",
        "       'SerumInsulin', 'BMI', 'DiabetesPedigree', 'Age']]\n",
        "Y=dataset['DiabetesProbability']"
      ]
    },
    {
      "cell_type": "markdown",
      "metadata": {
        "id": "FbXp7UucGg6n"
      },
      "source": [
        "# Split the dataset (keep some records for later testing)"
      ]
    },
    {
      "cell_type": "code",
      "execution_count": null,
      "metadata": {
        "id": "yMMcFP2lGg6n",
        "colab": {
          "base_uri": "https://localhost:8080/"
        },
        "outputId": "ff4e5d16-d118-45e8-8de1-e84b91888581"
      },
      "outputs": [
        {
          "output_type": "execute_result",
          "data": {
            "text/plain": [
              "(614,)"
            ]
          },
          "metadata": {},
          "execution_count": 11
        }
      ],
      "source": [
        "from sklearn.model_selection import train_test_split\n",
        "x_train, x_test, y_train, y_test= train_test_split(X,Y,test_size=0.2, random_state=1)\n",
        "y_train.shape"
      ]
    },
    {
      "cell_type": "code",
      "execution_count": null,
      "metadata": {
        "id": "DRHIZZIkGg6n",
        "colab": {
          "base_uri": "https://localhost:8080/"
        },
        "outputId": "52035bac-2c80-4e2b-907f-702a97050f8c"
      },
      "outputs": [
        {
          "output_type": "stream",
          "name": "stdout",
          "text": [
            "(614,)\n",
            "(614, 8)\n",
            "(154,)\n",
            "(154, 8)\n"
          ]
        }
      ],
      "source": [
        "print(y_train.shape)\n",
        "print(x_train.shape)\n",
        "print(y_test.shape)\n",
        "print(x_test.shape)"
      ]
    },
    {
      "cell_type": "markdown",
      "metadata": {
        "id": "4ThuKyhJGg6o"
      },
      "source": [
        "# BUILD THE NN USING KERAS\n",
        "\n",
        "a simple rule: The number of hidden neurons should be less than twice the size of the input layer."
      ]
    },
    {
      "cell_type": "markdown",
      "metadata": {
        "id": "nm13ux3fGg6o"
      },
      "source": [
        "## 1. Define Strcuture of the Model\n",
        "\n",
        "So we have 8 no of inputs, and 1 output (which could either be 0 or 1)\n",
        "![model.jpg](attachment:model.jpg)\n"
      ]
    },
    {
      "cell_type": "markdown",
      "metadata": {
        "id": "uIXXt2thGg6o"
      },
      "source": [
        "### Using Sequential Approach"
      ]
    },
    {
      "cell_type": "code",
      "execution_count": null,
      "metadata": {
        "id": "QQssntDcGg6o",
        "colab": {
          "base_uri": "https://localhost:8080/"
        },
        "outputId": "9c856ac4-f50a-48df-fe7e-7081f8166956"
      },
      "outputs": [
        {
          "output_type": "stream",
          "name": "stdout",
          "text": [
            "Model: \"sequential\"\n",
            "_________________________________________________________________\n",
            " Layer (type)                Output Shape              Param #   \n",
            "=================================================================\n",
            " dense (Dense)               (None, 32)                288       \n",
            "                                                                 \n",
            " dense_1 (Dense)             (None, 16)                528       \n",
            "                                                                 \n",
            " dense_2 (Dense)             (None, 1)                 17        \n",
            "                                                                 \n",
            "=================================================================\n",
            "Total params: 833\n",
            "Trainable params: 833\n",
            "Non-trainable params: 0\n",
            "_________________________________________________________________\n"
          ]
        }
      ],
      "source": [
        "\n",
        "# define the keras model\n",
        "model = Sequential()\n",
        "model.add(Dense(32, input_dim=8, activation='relu'))\n",
        "model.add(Dense(16, activation='relu'))\n",
        "model.add(Dense(1, activation='sigmoid'))\n",
        "model.summary()"
      ]
    },
    {
      "cell_type": "markdown",
      "metadata": {
        "id": "W0VlGOuHGg6p"
      },
      "source": [
        "## 2. Compile the Model"
      ]
    },
    {
      "cell_type": "markdown",
      "metadata": {
        "id": "hC1NnILrGg6p"
      },
      "source": [
        "Compiling the model requires the loss function and an optimizer with Metrics value"
      ]
    },
    {
      "cell_type": "code",
      "execution_count": null,
      "metadata": {
        "id": "-rv6Ke7dGg6p"
      },
      "outputs": [],
      "source": [
        "# compile the keras model\n",
        "model.compile(loss='binary_crossentropy', optimizer= 'adam', metrics=['accuracy'])\n"
      ]
    },
    {
      "cell_type": "markdown",
      "metadata": {
        "id": "VzFBfKzRGg6p"
      },
      "source": [
        "## 3. Fit the model"
      ]
    },
    {
      "cell_type": "code",
      "execution_count": null,
      "metadata": {
        "id": "HZVWHJ1TGg6p",
        "colab": {
          "base_uri": "https://localhost:8080/"
        },
        "outputId": "f0be2fb9-f4aa-4891-a76c-59cdc662fd6e"
      },
      "outputs": [
        {
          "output_type": "stream",
          "name": "stdout",
          "text": [
            "Epoch 1/100\n",
            "62/62 [==============================] - 6s 7ms/step - loss: 1.9760 - accuracy: 0.5717 - val_loss: 1.0061 - val_accuracy: 0.6234\n",
            "Epoch 2/100\n",
            "62/62 [==============================] - 0s 5ms/step - loss: 0.9146 - accuracy: 0.6270 - val_loss: 1.0558 - val_accuracy: 0.5844\n",
            "Epoch 3/100\n",
            "62/62 [==============================] - 0s 4ms/step - loss: 0.7717 - accuracy: 0.6498 - val_loss: 0.9800 - val_accuracy: 0.6623\n",
            "Epoch 4/100\n",
            "62/62 [==============================] - 0s 4ms/step - loss: 0.7081 - accuracy: 0.6547 - val_loss: 0.9287 - val_accuracy: 0.6753\n",
            "Epoch 5/100\n",
            "62/62 [==============================] - 0s 4ms/step - loss: 0.6522 - accuracy: 0.6971 - val_loss: 0.8819 - val_accuracy: 0.6104\n",
            "Epoch 6/100\n",
            "62/62 [==============================] - 0s 4ms/step - loss: 0.6409 - accuracy: 0.7085 - val_loss: 0.8641 - val_accuracy: 0.6818\n",
            "Epoch 7/100\n",
            "62/62 [==============================] - 0s 4ms/step - loss: 0.6469 - accuracy: 0.7101 - val_loss: 0.8230 - val_accuracy: 0.6623\n",
            "Epoch 8/100\n",
            "62/62 [==============================] - 0s 4ms/step - loss: 0.6790 - accuracy: 0.7036 - val_loss: 0.9257 - val_accuracy: 0.5649\n",
            "Epoch 9/100\n",
            "62/62 [==============================] - 0s 4ms/step - loss: 0.6750 - accuracy: 0.6889 - val_loss: 0.9220 - val_accuracy: 0.6753\n",
            "Epoch 10/100\n",
            "62/62 [==============================] - 0s 4ms/step - loss: 0.5789 - accuracy: 0.7199 - val_loss: 0.9222 - val_accuracy: 0.6558\n",
            "Epoch 11/100\n",
            "62/62 [==============================] - 0s 4ms/step - loss: 0.5993 - accuracy: 0.7036 - val_loss: 0.7991 - val_accuracy: 0.6753\n",
            "Epoch 12/100\n",
            "62/62 [==============================] - 0s 4ms/step - loss: 0.6050 - accuracy: 0.7068 - val_loss: 0.8691 - val_accuracy: 0.6494\n",
            "Epoch 13/100\n",
            "62/62 [==============================] - 0s 5ms/step - loss: 0.6002 - accuracy: 0.7166 - val_loss: 0.9015 - val_accuracy: 0.6753\n",
            "Epoch 14/100\n",
            "62/62 [==============================] - 0s 5ms/step - loss: 0.6196 - accuracy: 0.6938 - val_loss: 0.9853 - val_accuracy: 0.6039\n",
            "Epoch 15/100\n",
            "62/62 [==============================] - 0s 4ms/step - loss: 0.6822 - accuracy: 0.6840 - val_loss: 0.8766 - val_accuracy: 0.6558\n",
            "Epoch 16/100\n",
            "62/62 [==============================] - 0s 4ms/step - loss: 0.5896 - accuracy: 0.6906 - val_loss: 0.8109 - val_accuracy: 0.6623\n",
            "Epoch 17/100\n",
            "62/62 [==============================] - 0s 4ms/step - loss: 0.6056 - accuracy: 0.7003 - val_loss: 0.8109 - val_accuracy: 0.6753\n",
            "Epoch 18/100\n",
            "62/62 [==============================] - 0s 4ms/step - loss: 0.6068 - accuracy: 0.7150 - val_loss: 0.8504 - val_accuracy: 0.6948\n",
            "Epoch 19/100\n",
            "62/62 [==============================] - 0s 4ms/step - loss: 0.5784 - accuracy: 0.6857 - val_loss: 0.8285 - val_accuracy: 0.6753\n",
            "Epoch 20/100\n",
            "62/62 [==============================] - 0s 4ms/step - loss: 0.6178 - accuracy: 0.6922 - val_loss: 0.9317 - val_accuracy: 0.6299\n",
            "Epoch 21/100\n",
            "62/62 [==============================] - 0s 4ms/step - loss: 0.5604 - accuracy: 0.7052 - val_loss: 0.8511 - val_accuracy: 0.6883\n",
            "Epoch 22/100\n",
            "62/62 [==============================] - 0s 4ms/step - loss: 0.5697 - accuracy: 0.7296 - val_loss: 1.0337 - val_accuracy: 0.5325\n",
            "Epoch 23/100\n",
            "62/62 [==============================] - 0s 7ms/step - loss: 0.5750 - accuracy: 0.7182 - val_loss: 0.8331 - val_accuracy: 0.6753\n",
            "Epoch 24/100\n",
            "62/62 [==============================] - 0s 6ms/step - loss: 0.5724 - accuracy: 0.7117 - val_loss: 0.8942 - val_accuracy: 0.6299\n",
            "Epoch 25/100\n",
            "62/62 [==============================] - 0s 6ms/step - loss: 0.5563 - accuracy: 0.7329 - val_loss: 0.8834 - val_accuracy: 0.6429\n",
            "Epoch 26/100\n",
            "62/62 [==============================] - 0s 6ms/step - loss: 0.5585 - accuracy: 0.7215 - val_loss: 0.9631 - val_accuracy: 0.6364\n",
            "Epoch 27/100\n",
            "62/62 [==============================] - 0s 6ms/step - loss: 0.5600 - accuracy: 0.7280 - val_loss: 0.8715 - val_accuracy: 0.6883\n",
            "Epoch 28/100\n",
            "62/62 [==============================] - 0s 6ms/step - loss: 0.5459 - accuracy: 0.7199 - val_loss: 0.8986 - val_accuracy: 0.6753\n",
            "Epoch 29/100\n",
            "62/62 [==============================] - 0s 6ms/step - loss: 0.5549 - accuracy: 0.7296 - val_loss: 0.8465 - val_accuracy: 0.7143\n",
            "Epoch 30/100\n",
            "62/62 [==============================] - 0s 6ms/step - loss: 0.5598 - accuracy: 0.7199 - val_loss: 0.9929 - val_accuracy: 0.5974\n",
            "Epoch 31/100\n",
            "62/62 [==============================] - 0s 6ms/step - loss: 0.5584 - accuracy: 0.7345 - val_loss: 0.8806 - val_accuracy: 0.7143\n",
            "Epoch 32/100\n",
            "62/62 [==============================] - 0s 5ms/step - loss: 0.5774 - accuracy: 0.7296 - val_loss: 0.8560 - val_accuracy: 0.7143\n",
            "Epoch 33/100\n",
            "62/62 [==============================] - 0s 4ms/step - loss: 0.5741 - accuracy: 0.7199 - val_loss: 0.9186 - val_accuracy: 0.6169\n",
            "Epoch 34/100\n",
            "62/62 [==============================] - 0s 5ms/step - loss: 0.5979 - accuracy: 0.7117 - val_loss: 0.9565 - val_accuracy: 0.6494\n",
            "Epoch 35/100\n",
            "62/62 [==============================] - 0s 4ms/step - loss: 0.5649 - accuracy: 0.7264 - val_loss: 0.8517 - val_accuracy: 0.7078\n",
            "Epoch 36/100\n",
            "62/62 [==============================] - 0s 4ms/step - loss: 0.5824 - accuracy: 0.7150 - val_loss: 0.8662 - val_accuracy: 0.7143\n",
            "Epoch 37/100\n",
            "62/62 [==============================] - 0s 4ms/step - loss: 0.5465 - accuracy: 0.7378 - val_loss: 0.9563 - val_accuracy: 0.6234\n",
            "Epoch 38/100\n",
            "62/62 [==============================] - 0s 4ms/step - loss: 0.5519 - accuracy: 0.7264 - val_loss: 0.9774 - val_accuracy: 0.6169\n",
            "Epoch 39/100\n",
            "62/62 [==============================] - 0s 5ms/step - loss: 0.5441 - accuracy: 0.7476 - val_loss: 0.9149 - val_accuracy: 0.7013\n",
            "Epoch 40/100\n",
            "62/62 [==============================] - 0s 5ms/step - loss: 0.5471 - accuracy: 0.7231 - val_loss: 1.2353 - val_accuracy: 0.6558\n",
            "Epoch 41/100\n",
            "62/62 [==============================] - 0s 4ms/step - loss: 0.6366 - accuracy: 0.6971 - val_loss: 0.9345 - val_accuracy: 0.7013\n",
            "Epoch 42/100\n",
            "62/62 [==============================] - 0s 5ms/step - loss: 0.5309 - accuracy: 0.7264 - val_loss: 0.9437 - val_accuracy: 0.6753\n",
            "Epoch 43/100\n",
            "62/62 [==============================] - 1s 8ms/step - loss: 0.5724 - accuracy: 0.7280 - val_loss: 0.8911 - val_accuracy: 0.7143\n",
            "Epoch 44/100\n",
            "62/62 [==============================] - 0s 4ms/step - loss: 0.5291 - accuracy: 0.7427 - val_loss: 0.8963 - val_accuracy: 0.6883\n",
            "Epoch 45/100\n",
            "62/62 [==============================] - 0s 4ms/step - loss: 0.5268 - accuracy: 0.7329 - val_loss: 0.9234 - val_accuracy: 0.6364\n",
            "Epoch 46/100\n",
            "62/62 [==============================] - 0s 4ms/step - loss: 0.5334 - accuracy: 0.7199 - val_loss: 0.8935 - val_accuracy: 0.7143\n",
            "Epoch 47/100\n",
            "62/62 [==============================] - 0s 4ms/step - loss: 0.5400 - accuracy: 0.7459 - val_loss: 0.8864 - val_accuracy: 0.7078\n",
            "Epoch 48/100\n",
            "62/62 [==============================] - 0s 4ms/step - loss: 0.5191 - accuracy: 0.7573 - val_loss: 1.0088 - val_accuracy: 0.7013\n",
            "Epoch 49/100\n",
            "62/62 [==============================] - 0s 4ms/step - loss: 0.6296 - accuracy: 0.7182 - val_loss: 0.8875 - val_accuracy: 0.7143\n",
            "Epoch 50/100\n",
            "62/62 [==============================] - 0s 4ms/step - loss: 0.5382 - accuracy: 0.7280 - val_loss: 0.9112 - val_accuracy: 0.7013\n",
            "Epoch 51/100\n",
            "62/62 [==============================] - 0s 4ms/step - loss: 0.5237 - accuracy: 0.7427 - val_loss: 0.8582 - val_accuracy: 0.7208\n",
            "Epoch 52/100\n",
            "62/62 [==============================] - 0s 4ms/step - loss: 0.5262 - accuracy: 0.7590 - val_loss: 0.8756 - val_accuracy: 0.7273\n",
            "Epoch 53/100\n",
            "62/62 [==============================] - 0s 4ms/step - loss: 0.5116 - accuracy: 0.7427 - val_loss: 0.8902 - val_accuracy: 0.7338\n",
            "Epoch 54/100\n",
            "62/62 [==============================] - 0s 4ms/step - loss: 0.5883 - accuracy: 0.7313 - val_loss: 0.9837 - val_accuracy: 0.6948\n",
            "Epoch 55/100\n",
            "62/62 [==============================] - 0s 4ms/step - loss: 0.5201 - accuracy: 0.7378 - val_loss: 0.9063 - val_accuracy: 0.7143\n",
            "Epoch 56/100\n",
            "62/62 [==============================] - 0s 5ms/step - loss: 0.5292 - accuracy: 0.7345 - val_loss: 0.9080 - val_accuracy: 0.7143\n",
            "Epoch 57/100\n",
            "62/62 [==============================] - 0s 4ms/step - loss: 0.4906 - accuracy: 0.7671 - val_loss: 0.9382 - val_accuracy: 0.7208\n",
            "Epoch 58/100\n",
            "62/62 [==============================] - 0s 4ms/step - loss: 0.5564 - accuracy: 0.7378 - val_loss: 0.9445 - val_accuracy: 0.7273\n",
            "Epoch 59/100\n",
            "62/62 [==============================] - 0s 4ms/step - loss: 0.5775 - accuracy: 0.7476 - val_loss: 0.9240 - val_accuracy: 0.7273\n",
            "Epoch 60/100\n",
            "62/62 [==============================] - 0s 4ms/step - loss: 0.5265 - accuracy: 0.7638 - val_loss: 1.0534 - val_accuracy: 0.5584\n",
            "Epoch 61/100\n",
            "62/62 [==============================] - 0s 4ms/step - loss: 0.4983 - accuracy: 0.7590 - val_loss: 0.9191 - val_accuracy: 0.7208\n",
            "Epoch 62/100\n",
            "62/62 [==============================] - 0s 4ms/step - loss: 0.4921 - accuracy: 0.7704 - val_loss: 0.9689 - val_accuracy: 0.6623\n",
            "Epoch 63/100\n",
            "62/62 [==============================] - 0s 4ms/step - loss: 0.5241 - accuracy: 0.7476 - val_loss: 0.9367 - val_accuracy: 0.7013\n",
            "Epoch 64/100\n",
            "62/62 [==============================] - 0s 5ms/step - loss: 0.5343 - accuracy: 0.7296 - val_loss: 0.9862 - val_accuracy: 0.6948\n",
            "Epoch 65/100\n",
            "62/62 [==============================] - 0s 4ms/step - loss: 0.4928 - accuracy: 0.7590 - val_loss: 0.9104 - val_accuracy: 0.7143\n",
            "Epoch 66/100\n",
            "62/62 [==============================] - 0s 4ms/step - loss: 0.5381 - accuracy: 0.7524 - val_loss: 0.9256 - val_accuracy: 0.6558\n",
            "Epoch 67/100\n",
            "62/62 [==============================] - 0s 4ms/step - loss: 0.4970 - accuracy: 0.7541 - val_loss: 0.9179 - val_accuracy: 0.7078\n",
            "Epoch 68/100\n",
            "62/62 [==============================] - 0s 4ms/step - loss: 0.4956 - accuracy: 0.7524 - val_loss: 0.9203 - val_accuracy: 0.6818\n",
            "Epoch 69/100\n",
            "62/62 [==============================] - 0s 5ms/step - loss: 0.5038 - accuracy: 0.7443 - val_loss: 0.9475 - val_accuracy: 0.7143\n",
            "Epoch 70/100\n",
            "62/62 [==============================] - 0s 6ms/step - loss: 0.5078 - accuracy: 0.7704 - val_loss: 0.9003 - val_accuracy: 0.7403\n",
            "Epoch 71/100\n",
            "62/62 [==============================] - 0s 6ms/step - loss: 0.4984 - accuracy: 0.7720 - val_loss: 0.9049 - val_accuracy: 0.7078\n",
            "Epoch 72/100\n",
            "62/62 [==============================] - 0s 7ms/step - loss: 0.4967 - accuracy: 0.7606 - val_loss: 0.9308 - val_accuracy: 0.7143\n",
            "Epoch 73/100\n",
            "62/62 [==============================] - 0s 6ms/step - loss: 0.5135 - accuracy: 0.7427 - val_loss: 0.9205 - val_accuracy: 0.7143\n",
            "Epoch 74/100\n",
            "62/62 [==============================] - 1s 12ms/step - loss: 0.5536 - accuracy: 0.7427 - val_loss: 0.9173 - val_accuracy: 0.7078\n",
            "Epoch 75/100\n",
            "62/62 [==============================] - 1s 9ms/step - loss: 0.5045 - accuracy: 0.7638 - val_loss: 0.9352 - val_accuracy: 0.6818\n",
            "Epoch 76/100\n",
            "62/62 [==============================] - 0s 6ms/step - loss: 0.4923 - accuracy: 0.7720 - val_loss: 0.9026 - val_accuracy: 0.7208\n",
            "Epoch 77/100\n",
            "62/62 [==============================] - 0s 5ms/step - loss: 0.5056 - accuracy: 0.7638 - val_loss: 0.9099 - val_accuracy: 0.7078\n",
            "Epoch 78/100\n",
            "62/62 [==============================] - 0s 4ms/step - loss: 0.5088 - accuracy: 0.7704 - val_loss: 0.9062 - val_accuracy: 0.7143\n",
            "Epoch 79/100\n",
            "62/62 [==============================] - 0s 4ms/step - loss: 0.4976 - accuracy: 0.7476 - val_loss: 0.9719 - val_accuracy: 0.6299\n",
            "Epoch 80/100\n",
            "62/62 [==============================] - 0s 4ms/step - loss: 0.5846 - accuracy: 0.7443 - val_loss: 1.0687 - val_accuracy: 0.5779\n",
            "Epoch 81/100\n",
            "62/62 [==============================] - 0s 4ms/step - loss: 0.5877 - accuracy: 0.7313 - val_loss: 0.9161 - val_accuracy: 0.7078\n",
            "Epoch 82/100\n",
            "62/62 [==============================] - 0s 4ms/step - loss: 0.5094 - accuracy: 0.7638 - val_loss: 0.9495 - val_accuracy: 0.6364\n",
            "Epoch 83/100\n",
            "62/62 [==============================] - 0s 4ms/step - loss: 0.5235 - accuracy: 0.7622 - val_loss: 0.9442 - val_accuracy: 0.6234\n",
            "Epoch 84/100\n",
            "62/62 [==============================] - 0s 4ms/step - loss: 0.5266 - accuracy: 0.7443 - val_loss: 0.9435 - val_accuracy: 0.6494\n",
            "Epoch 85/100\n",
            "62/62 [==============================] - 0s 4ms/step - loss: 0.5139 - accuracy: 0.7638 - val_loss: 1.1033 - val_accuracy: 0.6948\n",
            "Epoch 86/100\n",
            "62/62 [==============================] - 0s 5ms/step - loss: 0.5562 - accuracy: 0.7606 - val_loss: 0.9220 - val_accuracy: 0.7013\n",
            "Epoch 87/100\n",
            "62/62 [==============================] - 0s 5ms/step - loss: 0.4953 - accuracy: 0.7410 - val_loss: 0.9043 - val_accuracy: 0.7078\n",
            "Epoch 88/100\n",
            "62/62 [==============================] - 0s 4ms/step - loss: 0.5377 - accuracy: 0.7362 - val_loss: 0.9803 - val_accuracy: 0.7143\n",
            "Epoch 89/100\n",
            "62/62 [==============================] - 0s 4ms/step - loss: 0.5124 - accuracy: 0.7459 - val_loss: 0.9331 - val_accuracy: 0.7078\n",
            "Epoch 90/100\n",
            "62/62 [==============================] - 0s 4ms/step - loss: 0.4873 - accuracy: 0.7638 - val_loss: 0.9259 - val_accuracy: 0.7078\n",
            "Epoch 91/100\n",
            "62/62 [==============================] - 0s 4ms/step - loss: 0.5284 - accuracy: 0.7508 - val_loss: 0.9231 - val_accuracy: 0.7208\n",
            "Epoch 92/100\n",
            "62/62 [==============================] - 0s 4ms/step - loss: 0.5013 - accuracy: 0.7524 - val_loss: 0.9192 - val_accuracy: 0.7273\n",
            "Epoch 93/100\n",
            "62/62 [==============================] - 0s 4ms/step - loss: 0.5000 - accuracy: 0.7394 - val_loss: 0.9043 - val_accuracy: 0.7403\n",
            "Epoch 94/100\n",
            "62/62 [==============================] - 0s 4ms/step - loss: 0.5341 - accuracy: 0.7329 - val_loss: 0.9231 - val_accuracy: 0.6753\n",
            "Epoch 95/100\n",
            "62/62 [==============================] - 0s 5ms/step - loss: 0.4910 - accuracy: 0.7443 - val_loss: 0.9458 - val_accuracy: 0.7338\n",
            "Epoch 96/100\n",
            "62/62 [==============================] - 0s 4ms/step - loss: 0.5161 - accuracy: 0.7427 - val_loss: 0.9367 - val_accuracy: 0.6494\n",
            "Epoch 97/100\n",
            "62/62 [==============================] - 0s 4ms/step - loss: 0.4810 - accuracy: 0.7622 - val_loss: 1.0095 - val_accuracy: 0.5909\n",
            "Epoch 98/100\n",
            "62/62 [==============================] - 0s 4ms/step - loss: 0.4663 - accuracy: 0.7752 - val_loss: 0.9164 - val_accuracy: 0.6948\n",
            "Epoch 99/100\n",
            "62/62 [==============================] - 0s 4ms/step - loss: 0.5327 - accuracy: 0.7476 - val_loss: 0.9382 - val_accuracy: 0.7468\n",
            "Epoch 100/100\n",
            "62/62 [==============================] - 0s 4ms/step - loss: 0.4850 - accuracy: 0.7720 - val_loss: 0.9876 - val_accuracy: 0.7078\n",
            "20/20 [==============================] - 0s 2ms/step - loss: 0.5116 - accuracy: 0.7541\n",
            "Accuracy: 75.41\n"
          ]
        }
      ],
      "source": [
        "# fit the keras model on the dataset\n",
        "history=model.fit(x_train, y_train, validation_data=(x_test, y_test), epochs=100, batch_size=10)\n",
        "# evaluate the keras model\n",
        "_, accuracy = model.evaluate(x_train, y_train)\n",
        "print('Accuracy: %.2f' % (accuracy*100))\n",
        "# for key in history.history:\n",
        "#   print(key)"
      ]
    },
    {
      "cell_type": "markdown",
      "metadata": {
        "id": "l_QSIYnlGg6q"
      },
      "source": [
        "## 4. Visualize the learning of the Model"
      ]
    },
    {
      "cell_type": "code",
      "execution_count": null,
      "metadata": {
        "id": "d_AkpI7rGg6q",
        "colab": {
          "base_uri": "https://localhost:8080/",
          "height": 916
        },
        "outputId": "414dcb02-b8f0-481e-c656-42c2b002ee44"
      },
      "outputs": [
        {
          "output_type": "stream",
          "name": "stdout",
          "text": [
            "dict_keys(['loss', 'accuracy', 'val_loss', 'val_accuracy'])\n"
          ]
        },
        {
          "output_type": "display_data",
          "data": {
            "text/plain": [
              "<Figure size 864x504 with 1 Axes>"
            ],
            "image/png": "[encoded data removed]"
          },
          "metadata": {}
        },
        {
          "output_type": "display_data",
          "data": {
            "text/plain": [
              "<Figure size 864x504 with 1 Axes>"
            ],
            "image/png": "[encoded data removed]"
          },
          "metadata": {}
        }
      ],
      "source": [
        "plt.figure(figsize=(12,7))\n",
        "# list all data in history\n",
        "print(history.history.keys())\n",
        "# summarize history for accuracy\n",
        "plt.plot(history.history['accuracy'],color='green', marker='o')\n",
        "plt.title('Training Accuracy of the Model')\n",
        "plt.ylabel('accuracy')\n",
        "plt.xlabel('epoch')\n",
        "plt.show()\n",
        "\n",
        "# summarize history for loss\n",
        "plt.figure(figsize=(12,7))\n",
        "plt.plot(history.history['loss'], color='red', marker='o')\n",
        "plt.title('Traning loss')\n",
        "plt.ylabel('loss')\n",
        "plt.xlabel('epoch')\n",
        "plt.show()"
      ]
    },
    {
      "cell_type": "markdown",
      "metadata": {
        "id": "3IyqlhOuGg6q"
      },
      "source": [
        "## 5. Make Predictions"
      ]
    },
    {
      "cell_type": "code",
      "execution_count": null,
      "metadata": {
        "id": "JjYnJnANGg6r",
        "colab": {
          "base_uri": "https://localhost:8080/"
        },
        "outputId": "1316a94f-567c-4297-d9f8-28093839bb7f"
      },
      "outputs": [
        {
          "output_type": "stream",
          "name": "stdout",
          "text": [
            "5/5 [==============================] - 0s 4ms/step\n",
            "5/5 [==============================] - 0s 2ms/step\n"
          ]
        },
        {
          "output_type": "execute_result",
          "data": {
            "text/plain": [
              "0.7077922077922078"
            ]
          },
          "metadata": {},
          "execution_count": 19
        }
      ],
      "source": [
        "# make class predictions with the model\n",
        "predic_y = model.predict(x_test)\n",
        "predictions = (model.predict(x_test) > 0.5).astype(int)\n",
        "\n",
        "accuracy_score(y_test, predictions)"
      ]
    },
    {
      "cell_type": "code",
      "source": [
        "predic_y"
      ],
      "metadata": {
        "id": "MVqKYrIgcOQa",
        "colab": {
          "base_uri": "https://localhost:8080/"
        },
        "outputId": "72305b7f-bdaf-43f7-f77f-907099a96fa9"
      },
      "execution_count": null,
      "outputs": [
        {
          "output_type": "execute_result",
          "data": {
            "text/plain": [
              "array([[5.98898113e-01],\n",
              "       [2.86338389e-01],\n",
              "       [2.16318667e-01],\n",
              "       [1.16314483e-03],\n",
              "       [1.32252231e-01],\n",
              "       [1.90201208e-01],\n",
              "       [3.49580497e-01],\n",
              "       [1.45047024e-01],\n",
              "       [1.27499223e-01],\n",
              "       [2.56285906e-01],\n",
              "       [6.90633655e-02],\n",
              "       [7.41933882e-02],\n",
              "       [3.19710255e-01],\n",
              "       [5.63991308e-01],\n",
              "       [1.27562573e-02],\n",
              "       [2.86365896e-01],\n",
              "       [1.82787061e-01],\n",
              "       [2.66508758e-01],\n",
              "       [3.89097899e-01],\n",
              "       [3.73020202e-01],\n",
              "       [4.83971983e-01],\n",
              "       [8.33132565e-02],\n",
              "       [4.16959822e-01],\n",
              "       [2.68159747e-01],\n",
              "       [3.95984873e-02],\n",
              "       [2.41998583e-01],\n",
              "       [4.02888209e-01],\n",
              "       [3.66098434e-01],\n",
              "       [6.59982441e-03],\n",
              "       [3.67854476e-01],\n",
              "       [2.24457577e-01],\n",
              "       [1.28156677e-01],\n",
              "       [4.24558669e-02],\n",
              "       [7.10086105e-03],\n",
              "       [9.67543721e-02],\n",
              "       [3.99740398e-01],\n",
              "       [9.47227925e-02],\n",
              "       [2.91510046e-01],\n",
              "       [1.02638014e-01],\n",
              "       [5.16890883e-01],\n",
              "       [3.09613377e-01],\n",
              "       [2.77435184e-01],\n",
              "       [2.17830408e-02],\n",
              "       [1.81790087e-02],\n",
              "       [9.74024311e-02],\n",
              "       [1.02436386e-01],\n",
              "       [6.99208260e-01],\n",
              "       [5.40007293e-01],\n",
              "       [2.78406143e-02],\n",
              "       [2.24342555e-01],\n",
              "       [4.91236858e-02],\n",
              "       [1.63718998e-01],\n",
              "       [6.85115755e-01],\n",
              "       [1.15602404e-01],\n",
              "       [5.89569211e-01],\n",
              "       [4.07031141e-02],\n",
              "       [8.34654450e-01],\n",
              "       [8.33971128e-02],\n",
              "       [2.87271172e-01],\n",
              "       [3.05758834e-01],\n",
              "       [2.77982373e-02],\n",
              "       [8.31615254e-02],\n",
              "       [4.03539270e-01],\n",
              "       [3.82792294e-01],\n",
              "       [3.80970925e-01],\n",
              "       [3.04254591e-01],\n",
              "       [7.16297884e-14],\n",
              "       [2.59575754e-01],\n",
              "       [3.67488801e-01],\n",
              "       [6.98275268e-01],\n",
              "       [9.37480986e-01],\n",
              "       [5.57064295e-01],\n",
              "       [4.73702282e-01],\n",
              "       [5.63989431e-02],\n",
              "       [3.89046639e-01],\n",
              "       [1.09663829e-01],\n",
              "       [3.44703645e-01],\n",
              "       [3.45711052e-01],\n",
              "       [2.17245221e-02],\n",
              "       [5.61669886e-01],\n",
              "       [7.87431002e-02],\n",
              "       [3.62663537e-01],\n",
              "       [1.83791921e-01],\n",
              "       [2.49980271e-01],\n",
              "       [5.64483143e-02],\n",
              "       [1.06387399e-01],\n",
              "       [2.66243577e-01],\n",
              "       [8.59833434e-02],\n",
              "       [1.90861672e-01],\n",
              "       [8.56248662e-02],\n",
              "       [4.96805040e-03],\n",
              "       [1.68602169e-03],\n",
              "       [2.37415209e-01],\n",
              "       [7.42929652e-02],\n",
              "       [7.55472720e-01],\n",
              "       [3.16024452e-01],\n",
              "       [3.78417522e-01],\n",
              "       [7.73633271e-02],\n",
              "       [1.10937774e-01],\n",
              "       [3.81476998e-01],\n",
              "       [7.58636892e-02],\n",
              "       [1.32261992e-01],\n",
              "       [1.63821355e-01],\n",
              "       [3.93864512e-01],\n",
              "       [1.21857472e-01],\n",
              "       [7.11410865e-02],\n",
              "       [3.88933480e-01],\n",
              "       [1.29549474e-01],\n",
              "       [1.11937061e-01],\n",
              "       [7.10590631e-02],\n",
              "       [6.59289658e-01],\n",
              "       [1.54115781e-01],\n",
              "       [1.97235852e-01],\n",
              "       [2.35007092e-01],\n",
              "       [1.89052238e-13],\n",
              "       [2.08485633e-01],\n",
              "       [7.90977329e-02],\n",
              "       [4.88973379e-01],\n",
              "       [1.71714455e-01],\n",
              "       [1.53319702e-01],\n",
              "       [1.47910446e-01],\n",
              "       [5.23320079e-01],\n",
              "       [1.78962886e-01],\n",
              "       [1.26960933e-01],\n",
              "       [1.23164847e-01],\n",
              "       [6.22171722e-02],\n",
              "       [5.05347140e-02],\n",
              "       [2.08212405e-01],\n",
              "       [7.85761774e-01],\n",
              "       [3.68104577e-01],\n",
              "       [7.35844672e-01],\n",
              "       [4.44021262e-03],\n",
              "       [3.79815876e-01],\n",
              "       [3.36912096e-01],\n",
              "       [5.43303072e-01],\n",
              "       [3.87102038e-01],\n",
              "       [1.93186089e-01],\n",
              "       [3.43752176e-01],\n",
              "       [6.14397638e-02],\n",
              "       [9.78543013e-02],\n",
              "       [4.49164659e-01],\n",
              "       [1.25596851e-01],\n",
              "       [4.93402034e-01],\n",
              "       [6.19769096e-01],\n",
              "       [4.36321169e-01],\n",
              "       [5.79371333e-01],\n",
              "       [1.64350215e-02],\n",
              "       [2.70067006e-01],\n",
              "       [2.23434120e-02],\n",
              "       [1.16958097e-01],\n",
              "       [3.20120394e-01],\n",
              "       [7.59508014e-01],\n",
              "       [6.06218874e-01],\n",
              "       [1.14628963e-01]], dtype=float32)"
            ]
          },
          "metadata": {},
          "execution_count": 21
        }
      ]
    },
    {
      "cell_type": "code",
      "source": [],
      "metadata": {
        "id": "wBA9qyW-Fs2N"
      },
      "execution_count": null,
      "outputs": []
    },
    {
      "cell_type": "code",
      "source": [
        "pwd"
      ],
      "metadata": {
        "id": "qxFaE4DnJUA0",
        "outputId": "91861e19-6d44-47ad-8d38-528eb4adf542",
        "colab": {
          "base_uri": "https://localhost:8080/",
          "height": 35
        }
      },
      "execution_count": null,
      "outputs": [
        {
          "output_type": "execute_result",
          "data": {
            "text/plain": [
              "'/content'"
            ],
            "application/vnd.google.colaboratory.intrinsic+json": {
              "type": "string"
            }
          },
          "metadata": {},
          "execution_count": 1
        }
      ]
    }
  ],
  "metadata": {
    "kernelspec": {
      "display_name": "Python 3 (ipykernel)",
      "language": "python",
      "name": "python3"
    },
    "language_info": {
      "codemirror_mode": {
        "name": "ipython",
        "version": 3
      },
      "file_extension": ".py",
      "mimetype": "text/x-python",
      "name": "python",
      "nbconvert_exporter": "python",
      "pygments_lexer": "ipython3",
      "version": "3.9.7"
    },
    "colab": {
      "provenance": []
    },
    "accelerator": "GPU"
  },
  "nbformat": 4,
  "nbformat_minor": 0
}
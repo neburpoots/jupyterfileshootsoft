{
 "cells": [
  {
   "cell_type": "markdown",
   "metadata": {},
   "source": [
    "**this is a template notebook. To get a 60 you will need to complete the first three chapters. From there is additional points. In the template you'll see text between <> so \\<example> where you will have to isert your own text. \n",
    "    The template is also just an indication. You can add more cells if needed, and can of course delete this line**\n",
    "\n",
    "# Wine regression\n",
    "## DMS - Regression Assignment (v1.2)\n",
    "Author: Ruben Stoop<br>\n",
    "Student number: 670240<br>\n",
    "Date: 13-3-2023"
   ]
  },
  {
   "cell_type": "markdown",
   "metadata": {},
   "source": [
    "For this notebook to work you must have installed the following packages (usually via pip install *packageName*:\n",
    "* numpy\n",
    "* pandas\n",
    "* \\<add other packages\\>\n",
    "\n",
    "From these we will need the following libraries:"
   ]
  },
  {
   "cell_type": "code",
   "execution_count": 249,
   "metadata": {},
   "outputs": [
    {
     "name": "stdout",
     "output_type": "stream",
     "text": [
      "pandas already installed, only imported\n",
      "NumPy already installed, only imported\n",
      "PyPlot already installed, only imported\n",
      "statsmodels already installed, only imported\n",
      "sklearn already installed, only imported\n",
      "statsmodels already installed, only imported\n"
     ]
    }
   ],
   "source": [
    "#enter here all those 'from .... import ....'\n",
    "try:\n",
    "    import pandas as pd\n",
    "    print('pandas already installed, only imported')\n",
    "except:\n",
    "    !pip install pandas\n",
    "    import pandas as pd\n",
    "    print('pandas was not installed, installed and imported')    \n",
    "\n",
    "# numpy as np\n",
    "try:\n",
    "    import numpy as np\n",
    "    print('NumPy already installed, only imported')\n",
    "except:\n",
    "    !pip install numpy\n",
    "    import numpy as np\n",
    "    print('NumPy was not installed, installed and imported')\n",
    "    \n",
    "    \n",
    "# pyplot as plt\n",
    "try:\n",
    "    import matplotlib.pyplot as plt\n",
    "    print('PyPlot already installed, only imported')\n",
    "except:\n",
    "    !pip install matplotlib\n",
    "    import matplotlib.pyplot as plt\n",
    "    print('PyPlot was not installed, installed and imported')\n",
    "\n",
    "try:\n",
    "    import statsmodels.api as sm\n",
    "    print('statsmodels already installed, only imported')\n",
    "except:\n",
    "    !pip install statsmodels\n",
    "    import statsmodels.api as sm\n",
    "    print('statsmodels was not installed, installed and imported')    \n",
    "    \n",
    "# sklearn\n",
    "try:\n",
    "    from sklearn.linear_model import LinearRegression\n",
    "    print('sklearn already installed, only imported')\n",
    "except:\n",
    "    !pip install sklearn\n",
    "    from sklearn.linear_model import LinearRegression\n",
    "    print('sklearn was not installed, installed and imported')\n",
    "\n",
    "from sklearn import metrics\n",
    "\n",
    "try:\n",
    "    import seaborn as sns\n",
    "    print('statsmodels already installed, only imported')\n",
    "except:\n",
    "    !pip install seaborn\n",
    "    import seaborn as sns\n",
    "    print('statsmodels was not installed, installed and imported')"
   ]
  },
  {
   "cell_type": "markdown",
   "metadata": {},
   "source": [
    "# 1. The Data\n",
    "We are going to use the datafile winequality-red.csv. This contains data from the Red whine of the portugese Vinho Verde."
   ]
  },
  {
   "cell_type": "code",
   "execution_count": 250,
   "metadata": {},
   "outputs": [],
   "source": [
    "#enter the code to load the data\n",
    "#https://www.kaggle.com/datasets/uciml/red-wine-quality-cortez-et-al-2009\n",
    "red_wines=pd.read_csv('winequality-red.csv')"
   ]
  },
  {
   "cell_type": "markdown",
   "metadata": {},
   "source": [
    "Here's a quick look at the data:"
   ]
  },
  {
   "cell_type": "code",
   "execution_count": 251,
   "metadata": {},
   "outputs": [
    {
     "data": {
      "text/html": [
       "<div>\n",
       "<style scoped>\n",
       "    .dataframe tbody tr th:only-of-type {\n",
       "        vertical-align: middle;\n",
       "    }\n",
       "\n",
       "    .dataframe tbody tr th {\n",
       "        vertical-align: top;\n",
       "    }\n",
       "\n",
       "    .dataframe thead th {\n",
       "        text-align: right;\n",
       "    }\n",
       "</style>\n",
       "<table border=\"1\" class=\"dataframe\">\n",
       "  <thead>\n",
       "    <tr style=\"text-align: right;\">\n",
       "      <th></th>\n",
       "      <th>fixed acidity</th>\n",
       "      <th>volatile acidity</th>\n",
       "      <th>citric acid</th>\n",
       "      <th>residual sugar</th>\n",
       "      <th>chlorides</th>\n",
       "      <th>free sulfur dioxide</th>\n",
       "      <th>total sulfur dioxide</th>\n",
       "      <th>density</th>\n",
       "      <th>pH</th>\n",
       "      <th>sulphates</th>\n",
       "      <th>alcohol</th>\n",
       "      <th>quality</th>\n",
       "    </tr>\n",
       "  </thead>\n",
       "  <tbody>\n",
       "    <tr>\n",
       "      <th>0</th>\n",
       "      <td>7.4</td>\n",
       "      <td>0.70</td>\n",
       "      <td>0.00</td>\n",
       "      <td>1.9</td>\n",
       "      <td>0.076</td>\n",
       "      <td>11.0</td>\n",
       "      <td>34.0</td>\n",
       "      <td>0.9978</td>\n",
       "      <td>3.51</td>\n",
       "      <td>0.56</td>\n",
       "      <td>9.4</td>\n",
       "      <td>5</td>\n",
       "    </tr>\n",
       "    <tr>\n",
       "      <th>1</th>\n",
       "      <td>7.8</td>\n",
       "      <td>0.88</td>\n",
       "      <td>0.00</td>\n",
       "      <td>2.6</td>\n",
       "      <td>0.098</td>\n",
       "      <td>25.0</td>\n",
       "      <td>67.0</td>\n",
       "      <td>0.9968</td>\n",
       "      <td>3.20</td>\n",
       "      <td>0.68</td>\n",
       "      <td>9.8</td>\n",
       "      <td>5</td>\n",
       "    </tr>\n",
       "    <tr>\n",
       "      <th>2</th>\n",
       "      <td>7.8</td>\n",
       "      <td>0.76</td>\n",
       "      <td>0.04</td>\n",
       "      <td>2.3</td>\n",
       "      <td>0.092</td>\n",
       "      <td>15.0</td>\n",
       "      <td>54.0</td>\n",
       "      <td>0.9970</td>\n",
       "      <td>3.26</td>\n",
       "      <td>0.65</td>\n",
       "      <td>9.8</td>\n",
       "      <td>5</td>\n",
       "    </tr>\n",
       "    <tr>\n",
       "      <th>3</th>\n",
       "      <td>11.2</td>\n",
       "      <td>0.28</td>\n",
       "      <td>0.56</td>\n",
       "      <td>1.9</td>\n",
       "      <td>0.075</td>\n",
       "      <td>17.0</td>\n",
       "      <td>60.0</td>\n",
       "      <td>0.9980</td>\n",
       "      <td>3.16</td>\n",
       "      <td>0.58</td>\n",
       "      <td>9.8</td>\n",
       "      <td>6</td>\n",
       "    </tr>\n",
       "    <tr>\n",
       "      <th>4</th>\n",
       "      <td>7.4</td>\n",
       "      <td>0.70</td>\n",
       "      <td>0.00</td>\n",
       "      <td>1.9</td>\n",
       "      <td>0.076</td>\n",
       "      <td>11.0</td>\n",
       "      <td>34.0</td>\n",
       "      <td>0.9978</td>\n",
       "      <td>3.51</td>\n",
       "      <td>0.56</td>\n",
       "      <td>9.4</td>\n",
       "      <td>5</td>\n",
       "    </tr>\n",
       "    <tr>\n",
       "      <th>5</th>\n",
       "      <td>7.4</td>\n",
       "      <td>0.66</td>\n",
       "      <td>0.00</td>\n",
       "      <td>1.8</td>\n",
       "      <td>0.075</td>\n",
       "      <td>13.0</td>\n",
       "      <td>40.0</td>\n",
       "      <td>0.9978</td>\n",
       "      <td>3.51</td>\n",
       "      <td>0.56</td>\n",
       "      <td>9.4</td>\n",
       "      <td>5</td>\n",
       "    </tr>\n",
       "    <tr>\n",
       "      <th>6</th>\n",
       "      <td>7.9</td>\n",
       "      <td>0.60</td>\n",
       "      <td>0.06</td>\n",
       "      <td>1.6</td>\n",
       "      <td>0.069</td>\n",
       "      <td>15.0</td>\n",
       "      <td>59.0</td>\n",
       "      <td>0.9964</td>\n",
       "      <td>3.30</td>\n",
       "      <td>0.46</td>\n",
       "      <td>9.4</td>\n",
       "      <td>5</td>\n",
       "    </tr>\n",
       "    <tr>\n",
       "      <th>7</th>\n",
       "      <td>7.3</td>\n",
       "      <td>0.65</td>\n",
       "      <td>0.00</td>\n",
       "      <td>1.2</td>\n",
       "      <td>0.065</td>\n",
       "      <td>15.0</td>\n",
       "      <td>21.0</td>\n",
       "      <td>0.9946</td>\n",
       "      <td>3.39</td>\n",
       "      <td>0.47</td>\n",
       "      <td>10.0</td>\n",
       "      <td>7</td>\n",
       "    </tr>\n",
       "    <tr>\n",
       "      <th>8</th>\n",
       "      <td>7.8</td>\n",
       "      <td>0.58</td>\n",
       "      <td>0.02</td>\n",
       "      <td>2.0</td>\n",
       "      <td>0.073</td>\n",
       "      <td>9.0</td>\n",
       "      <td>18.0</td>\n",
       "      <td>0.9968</td>\n",
       "      <td>3.36</td>\n",
       "      <td>0.57</td>\n",
       "      <td>9.5</td>\n",
       "      <td>7</td>\n",
       "    </tr>\n",
       "    <tr>\n",
       "      <th>9</th>\n",
       "      <td>7.5</td>\n",
       "      <td>0.50</td>\n",
       "      <td>0.36</td>\n",
       "      <td>6.1</td>\n",
       "      <td>0.071</td>\n",
       "      <td>17.0</td>\n",
       "      <td>102.0</td>\n",
       "      <td>0.9978</td>\n",
       "      <td>3.35</td>\n",
       "      <td>0.80</td>\n",
       "      <td>10.5</td>\n",
       "      <td>5</td>\n",
       "    </tr>\n",
       "  </tbody>\n",
       "</table>\n",
       "</div>"
      ],
      "text/plain": [
       "   fixed acidity  volatile acidity  citric acid  residual sugar  chlorides  \\\n",
       "0            7.4              0.70         0.00             1.9      0.076   \n",
       "1            7.8              0.88         0.00             2.6      0.098   \n",
       "2            7.8              0.76         0.04             2.3      0.092   \n",
       "3           11.2              0.28         0.56             1.9      0.075   \n",
       "4            7.4              0.70         0.00             1.9      0.076   \n",
       "5            7.4              0.66         0.00             1.8      0.075   \n",
       "6            7.9              0.60         0.06             1.6      0.069   \n",
       "7            7.3              0.65         0.00             1.2      0.065   \n",
       "8            7.8              0.58         0.02             2.0      0.073   \n",
       "9            7.5              0.50         0.36             6.1      0.071   \n",
       "\n",
       "   free sulfur dioxide  total sulfur dioxide  density    pH  sulphates  \\\n",
       "0                 11.0                  34.0   0.9978  3.51       0.56   \n",
       "1                 25.0                  67.0   0.9968  3.20       0.68   \n",
       "2                 15.0                  54.0   0.9970  3.26       0.65   \n",
       "3                 17.0                  60.0   0.9980  3.16       0.58   \n",
       "4                 11.0                  34.0   0.9978  3.51       0.56   \n",
       "5                 13.0                  40.0   0.9978  3.51       0.56   \n",
       "6                 15.0                  59.0   0.9964  3.30       0.46   \n",
       "7                 15.0                  21.0   0.9946  3.39       0.47   \n",
       "8                  9.0                  18.0   0.9968  3.36       0.57   \n",
       "9                 17.0                 102.0   0.9978  3.35       0.80   \n",
       "\n",
       "   alcohol  quality  \n",
       "0      9.4        5  \n",
       "1      9.8        5  \n",
       "2      9.8        5  \n",
       "3      9.8        6  \n",
       "4      9.4        5  \n",
       "5      9.4        5  \n",
       "6      9.4        5  \n",
       "7     10.0        7  \n",
       "8      9.5        7  \n",
       "9     10.5        5  "
      ]
     },
     "execution_count": 251,
     "metadata": {},
     "output_type": "execute_result"
    }
   ],
   "source": [
    "#enter the code to see the first few rows of the data\n",
    "red_wines.head(10)"
   ]
  },
  {
   "cell_type": "markdown",
   "metadata": {},
   "source": [
    "For the dependent y I will choose the fixed acidity. For the first x the citric acid will be used and for the second x the density to see if we can predict the y with these values\n",
    "    \n",
    "*note:* You can score a +.5 point if you don't just pick randomly your variables, but use either a pairplot (a plot showing all scatterplots between all possible pairs of variables), a heatmap, and/or a correlation matrix, to pick some that at least have a reasonable correlation."
   ]
  },
  {
   "cell_type": "code",
   "execution_count": 252,
   "metadata": {},
   "outputs": [
    {
     "data": {
      "text/plain": [
       "<AxesSubplot:>"
      ]
     },
     "execution_count": 252,
     "metadata": {},
     "output_type": "execute_result"
    },
    {
     "data": {
      "image/png": "[encoded data removed]",
      "text/plain": [
       "<Figure size 1440x1080 with 2 Axes>"
      ]
     },
     "metadata": {
      "needs_background": "light"
     },
     "output_type": "display_data"
    }
   ],
   "source": [
    "plt.subplots(figsize=(20,15))\n",
    "sns.heatmap(red_wines.corr(), annot=True)"
   ]
  },
  {
   "cell_type": "markdown",
   "metadata": {},
   "source": [
    "# 2. The Bivariate Regression\n",
    "\n",
    "## 2.1. The First Bivariate Regression\n",
    "\n",
    "First we are going to look at the predictions using only one of our two x's. "
   ]
  },
  {
   "cell_type": "markdown",
   "metadata": {},
   "source": [
    "We start with predicting the fixed acidity using the citric acid. Below a visualisation of these two:"
   ]
  },
  {
   "cell_type": "code",
   "execution_count": 253,
   "metadata": {},
   "outputs": [
    {
     "data": {
      "image/png": "[encoded data removed]",
      "text/plain": [
       "<Figure size 432x288 with 1 Axes>"
      ]
     },
     "metadata": {
      "needs_background": "light"
     },
     "output_type": "display_data"
    }
   ],
   "source": [
    "#enter code to show scatterplot\n",
    "\n",
    "x = red_wines[['citric acid']]\n",
    "\n",
    "y = red_wines[\"fixed acidity\"].to_numpy().reshape((-1,1))\n",
    "\n",
    "plt.scatter(x,y)\n",
    "plt.show()"
   ]
  },
  {
   "cell_type": "markdown",
   "metadata": {},
   "source": [
    "There is a clear relation between the citric acid and the fixed acidity. The general trend seems to be that the more fixed acidity is in a wine. The more citric acid is also present."
   ]
  },
  {
   "cell_type": "markdown",
   "metadata": {},
   "source": [
    "Now that we have a visual inspection its time to perform a bivariate regression (twice, once for each x variable). \n",
    "\n",
    "We first split the data into training and testing data. We start again with the x of citric acid"
   ]
  },
  {
   "cell_type": "code",
   "execution_count": 254,
   "metadata": {},
   "outputs": [
    {
     "name": "stdout",
     "output_type": "stream",
     "text": [
      "      citric acid\n",
      "1405         0.30\n",
      "992          0.10\n",
      "1003         0.32\n",
      "776          0.18\n",
      "849          0.21\n",
      "...           ...\n",
      "75           0.64\n",
      "599          0.45\n",
      "1361         0.14\n",
      "1547         0.10\n",
      "863          0.06\n",
      "\n",
      "[959 rows x 1 columns]\n"
     ]
    }
   ],
   "source": [
    "#add code to create training and testing data\n",
    "from sklearn.model_selection import train_test_split\n",
    "x_train, x_test, y_train, y_test = train_test_split(x, y, test_size=0.4, random_state=101)\n",
    "x_train.shape[0]\n",
    "print(x_train)"
   ]
  },
  {
   "cell_type": "markdown",
   "metadata": {},
   "source": [
    "Now setup the linear regression model and fit our training data:"
   ]
  },
  {
   "cell_type": "code",
   "execution_count": 255,
   "metadata": {},
   "outputs": [
    {
     "name": "stdout",
     "output_type": "stream",
     "text": [
      "Intercept: [6.65387809]\n",
      "Coefficients [[5.91907052]]\n"
     ]
    },
    {
     "data": {
      "image/png": "[encoded data removed]",
      "text/plain": [
       "<Figure size 432x288 with 1 Axes>"
      ]
     },
     "metadata": {
      "needs_background": "light"
     },
     "output_type": "display_data"
    }
   ],
   "source": [
    "#add code to create linear regression model\n",
    "model=LinearRegression().fit(x_train,y_train) # To train the model. Only fit the training data.\n",
    "print('Intercept:', model.intercept_)\n",
    "print('Coefficients',model.coef_)\n",
    "\n",
    "coeff_df = pd.DataFrame(                                  # creating a dataframe \n",
    "                        model.coef_,                    # myModel.coef_ as the data\n",
    "                        x.columns,                        # X.columns as the index\n",
    "                        columns=['Coefficient'])          # column name is 'Coefficient' \n",
    "                                                                    \n",
    "coeff_df.head(10)\n",
    "\n",
    "#add code to show scatterplot with the regression line\n",
    "prediction = model.predict(x_train)\n",
    "plt.scatter(x,y, color='blue')\n",
    "plt.plot(x_train.values,prediction, color='red')\n",
    "\n",
    "plt.show()"
   ]
  },
  {
   "cell_type": "markdown",
   "metadata": {},
   "source": [
    "Lets see how well the model performed with the training data, by visualisation:"
   ]
  },
  {
   "cell_type": "markdown",
   "metadata": {},
   "source": [
    "I think the line describes the data well. It appears to have a low average deviation.\n",
    "\n",
    "Besides from a visual, we can also use some metrics."
   ]
  },
  {
   "cell_type": "code",
   "execution_count": 256,
   "metadata": {},
   "outputs": [
    {
     "data": {
      "text/html": [
       "<table class=\"simpletable\">\n",
       "<caption>OLS Regression Results</caption>\n",
       "<tr>\n",
       "  <th>Dep. Variable:</th>            <td>y</td>        <th>  R-squared:         </th> <td>   0.428</td> \n",
       "</tr>\n",
       "<tr>\n",
       "  <th>Model:</th>                   <td>OLS</td>       <th>  Adj. R-squared:    </th> <td>   0.428</td> \n",
       "</tr>\n",
       "<tr>\n",
       "  <th>Method:</th>             <td>Least Squares</td>  <th>  F-statistic:       </th> <td>   716.6</td> \n",
       "</tr>\n",
       "<tr>\n",
       "  <th>Date:</th>             <td>Fri, 17 Mar 2023</td> <th>  Prob (F-statistic):</th> <td>2.78e-118</td>\n",
       "</tr>\n",
       "<tr>\n",
       "  <th>Time:</th>                 <td>20:09:19</td>     <th>  Log-Likelihood:    </th> <td> -1618.6</td> \n",
       "</tr>\n",
       "<tr>\n",
       "  <th>No. Observations:</th>      <td>   959</td>      <th>  AIC:               </th> <td>   3241.</td> \n",
       "</tr>\n",
       "<tr>\n",
       "  <th>Df Residuals:</th>          <td>   957</td>      <th>  BIC:               </th> <td>   3251.</td> \n",
       "</tr>\n",
       "<tr>\n",
       "  <th>Df Model:</th>              <td>     1</td>      <th>                     </th>     <td> </td>    \n",
       "</tr>\n",
       "<tr>\n",
       "  <th>Covariance Type:</th>      <td>nonrobust</td>    <th>                     </th>     <td> </td>    \n",
       "</tr>\n",
       "</table>\n",
       "<table class=\"simpletable\">\n",
       "<tr>\n",
       "       <td></td>          <th>coef</th>     <th>std err</th>      <th>t</th>      <th>P>|t|</th>  <th>[0.025</th>    <th>0.975]</th>  \n",
       "</tr>\n",
       "<tr>\n",
       "  <th>const</th>       <td>    6.6539</td> <td>    0.074</td> <td>   89.645</td> <td> 0.000</td> <td>    6.508</td> <td>    6.800</td>\n",
       "</tr>\n",
       "<tr>\n",
       "  <th>citric acid</th> <td>    5.9191</td> <td>    0.221</td> <td>   26.769</td> <td> 0.000</td> <td>    5.485</td> <td>    6.353</td>\n",
       "</tr>\n",
       "</table>\n",
       "<table class=\"simpletable\">\n",
       "<tr>\n",
       "  <th>Omnibus:</th>       <td>51.674</td> <th>  Durbin-Watson:     </th> <td>   1.998</td>\n",
       "</tr>\n",
       "<tr>\n",
       "  <th>Prob(Omnibus):</th> <td> 0.000</td> <th>  Jarque-Bera (JB):  </th> <td> 119.374</td>\n",
       "</tr>\n",
       "<tr>\n",
       "  <th>Skew:</th>          <td> 0.302</td> <th>  Prob(JB):          </th> <td>1.20e-26</td>\n",
       "</tr>\n",
       "<tr>\n",
       "  <th>Kurtosis:</th>      <td> 4.620</td> <th>  Cond. No.          </th> <td>    5.64</td>\n",
       "</tr>\n",
       "</table><br/><br/>Notes:<br/>[1] Standard Errors assume that the covariance matrix of the errors is correctly specified."
      ],
      "text/plain": [
       "<class 'statsmodels.iolib.summary.Summary'>\n",
       "\"\"\"\n",
       "                            OLS Regression Results                            \n",
       "==============================================================================\n",
       "Dep. Variable:                      y   R-squared:                       0.428\n",
       "Model:                            OLS   Adj. R-squared:                  0.428\n",
       "Method:                 Least Squares   F-statistic:                     716.6\n",
       "Date:                Fri, 17 Mar 2023   Prob (F-statistic):          2.78e-118\n",
       "Time:                        20:09:19   Log-Likelihood:                -1618.6\n",
       "No. Observations:                 959   AIC:                             3241.\n",
       "Df Residuals:                     957   BIC:                             3251.\n",
       "Df Model:                           1                                         \n",
       "Covariance Type:            nonrobust                                         \n",
       "===============================================================================\n",
       "                  coef    std err          t      P>|t|      [0.025      0.975]\n",
       "-------------------------------------------------------------------------------\n",
       "const           6.6539      0.074     89.645      0.000       6.508       6.800\n",
       "citric acid     5.9191      0.221     26.769      0.000       5.485       6.353\n",
       "==============================================================================\n",
       "Omnibus:                       51.674   Durbin-Watson:                   1.998\n",
       "Prob(Omnibus):                  0.000   Jarque-Bera (JB):              119.374\n",
       "Skew:                           0.302   Prob(JB):                     1.20e-26\n",
       "Kurtosis:                       4.620   Cond. No.                         5.64\n",
       "==============================================================================\n",
       "\n",
       "Notes:\n",
       "[1] Standard Errors assume that the covariance matrix of the errors is correctly specified.\n",
       "\"\"\""
      ]
     },
     "execution_count": 256,
     "metadata": {},
     "output_type": "execute_result"
    }
   ],
   "source": [
    "#code to show the results of the statsmodels.api summary\n",
    "X=sm.add_constant(x_train)\n",
    "newModel = sm.OLS(y_train,X).fit()\n",
    "newModel.summary()"
   ]
  },
  {
   "cell_type": "markdown",
   "metadata": {
    "tags": []
   },
   "source": [
    "R squared means the how much the x variable explains the predicted y variable so a R squared of 100% means that the x would explain all of the y. In this case the R squared is 43%\n",
    "\n",
    "The P values of the const and citric acid are both 0 which indicates that they are both statistically significant. \n",
    "\n",
    "We can also check how well our model worked by using the testing data:"
   ]
  },
  {
   "cell_type": "code",
   "execution_count": 257,
   "metadata": {},
   "outputs": [
    {
     "name": "stdout",
     "output_type": "stream",
     "text": [
      "678      7.245785\n",
      "1500     6.890641\n",
      "1457     8.607171\n",
      "1079    10.678846\n",
      "909      8.962316\n",
      "          ...    \n",
      "919      7.364167\n",
      "1095     9.435841\n",
      "471      9.139888\n",
      "1389     6.772259\n",
      "319      7.364167\n",
      "Length: 640, dtype: float64\n"
     ]
    },
    {
     "data": {
      "image/png": "[encoded data removed]",
      "text/plain": [
       "<Figure size 432x288 with 1 Axes>"
      ]
     },
     "metadata": {
      "needs_background": "light"
     },
     "output_type": "display_data"
    },
    {
     "name": "stdout",
     "output_type": "stream",
     "text": [
      "           mean   mean_se  mean_ci_lower  mean_ci_upper  obs_ci_lower  \\\n",
      "678    7.245785  0.057454       7.133035       7.358535      4.672805   \n",
      "1500   6.890641  0.067146       6.758870       7.022412      4.316757   \n",
      "1457   8.607171  0.043959       8.520904       8.693439      6.035216   \n",
      "1079  10.678846  0.098867      10.484824      10.872868      8.101025   \n",
      "909    8.962316  0.049256       8.865654       9.058977      6.389990   \n",
      "...         ...       ...            ...            ...           ...   \n",
      "919    7.364167  0.054558       7.257099       7.471234      4.791429   \n",
      "1095   9.435841  0.060266       9.317573       9.554110      6.862613   \n",
      "471    9.139888  0.052962       9.035953       9.243823      6.567279   \n",
      "1389   6.772259  0.070636       6.633641       6.910878      4.198016   \n",
      "319    7.364167  0.054558       7.257099       7.471234      4.791429   \n",
      "\n",
      "      obs_ci_upper  \n",
      "678       9.818765  \n",
      "1500      9.464525  \n",
      "1457     11.179127  \n",
      "1079     13.256667  \n",
      "909      11.534641  \n",
      "...            ...  \n",
      "919       9.936904  \n",
      "1095     12.009069  \n",
      "471      11.712497  \n",
      "1389      9.346503  \n",
      "319       9.936904  \n",
      "\n",
      "[640 rows x 6 columns]\n"
     ]
    }
   ],
   "source": [
    "#code to show how well the model performmed\n",
    "x_test_constant=sm.add_constant(x_test)\n",
    "\n",
    "predictions = newModel.predict(x_test_constant)\n",
    "print(predictions)\n",
    "plt.scatter(x,y, color='blue')\n",
    "plt.plot(x_test_constant.values,predictions, color='red')\n",
    "\n",
    "plt.show()\n",
    "\n",
    "predictions = newModel.get_prediction(x_test_constant).summary_frame(alpha=0.05)  # alpha = significance level for confidence interval\n",
    "print(predictions)\n"
   ]
  },
  {
   "cell_type": "markdown",
   "metadata": {},
   "source": [
    "To display the result of the training data I have given multiple options. The first table shows the predictions array. The scatterplot shows all the data with the test predictions plot line. The last table shows a more expansive prediction of the x_test"
   ]
  },
  {
   "cell_type": "markdown",
   "metadata": {},
   "source": [
    "Now we repeat all these steps, but using the other x-variable: Density"
   ]
  },
  {
   "cell_type": "markdown",
   "metadata": {},
   "source": [
    "## 2.2. The Second Bivariate Regression\n",
    "\n",
    "In this section we are going to repeat all the steps from the previous one, but now we are going to try to predict fixed acidity with the density.\n",
    "\n",
    "Below a visualisation of these two:"
   ]
  },
  {
   "cell_type": "code",
   "execution_count": 258,
   "metadata": {},
   "outputs": [
    {
     "data": {
      "image/png": "[encoded data removed]",
      "text/plain": [
       "<Figure size 432x288 with 1 Axes>"
      ]
     },
     "metadata": {
      "needs_background": "light"
     },
     "output_type": "display_data"
    }
   ],
   "source": [
    "#enter code to show scatterplot\n",
    "\n",
    "x_second = red_wines[['density']]\n",
    "\n",
    "\n",
    "plt.scatter(x_second,y)\n",
    "plt.show()\n"
   ]
  },
  {
   "cell_type": "markdown",
   "metadata": {},
   "source": [
    "There is a clear relation between the density and the fixed acidity. The general trend seems to be that the more fixed acidity is in a wine. The more density is also present.\n",
    "\n",
    "Creating again the training/testing sets and the model itself:"
   ]
  },
  {
   "cell_type": "code",
   "execution_count": 259,
   "metadata": {},
   "outputs": [
    {
     "name": "stdout",
     "output_type": "stream",
     "text": [
      "      density\n",
      "1405  0.99520\n",
      "992   0.99554\n",
      "1003  0.99280\n",
      "776   0.99612\n",
      "849   0.99689\n",
      "...       ...\n",
      "75    0.99860\n",
      "599   1.00000\n",
      "1361  0.99724\n",
      "1547  0.99306\n",
      "863   0.99746\n",
      "\n",
      "[959 rows x 1 columns]\n"
     ]
    }
   ],
   "source": [
    "#add code here to split the data and the model itself:\n",
    "#add code to create training and testing data\n",
    "from sklearn.model_selection import train_test_split\n",
    "X_train, X_test, Y_train, Y_test = train_test_split(x_second, y, test_size=0.4, random_state=101)\n",
    "X_train.shape[0]\n",
    "print(X_train)"
   ]
  },
  {
   "cell_type": "markdown",
   "metadata": {},
   "source": [
    "Now lets see how this performs:"
   ]
  },
  {
   "cell_type": "code",
   "execution_count": 260,
   "metadata": {},
   "outputs": [
    {
     "name": "stdout",
     "output_type": "stream",
     "text": [
      "Intercept: [-613.79327989]\n",
      "Coefficients [[624.06656625]]\n"
     ]
    },
    {
     "data": {
      "image/png": "[encoded data removed]",
      "text/plain": [
       "<Figure size 432x288 with 1 Axes>"
      ]
     },
     "metadata": {
      "needs_background": "light"
     },
     "output_type": "display_data"
    }
   ],
   "source": [
    "#add code to show both the scatterplot with the regression line, and the model summary results.\n",
    "#add code to create linear regression model\n",
    "densityModel=LinearRegression().fit(X_train,Y_train) # To train the model. Only fit the training data.\n",
    "print('Intercept:', densityModel.intercept_)\n",
    "print('Coefficients',densityModel.coef_)\n",
    "\n",
    "\n",
    "\n",
    "coeff_df = pd.DataFrame(                                  # creating a dataframe \n",
    "                        densityModel.coef_,                    # myModel.coef_ as the data\n",
    "                        x_second.columns,                        # X.columns as the index\n",
    "                        columns=['Coefficient'])          # column name is 'Coefficient' \n",
    "                                                                    \n",
    "coeff_df.head(10)\n",
    "\n",
    "#add code to show scatterplot with the regression line\n",
    "densityPrediction = densityModel.predict(X_train)\n",
    "plt.scatter(x_second,y, color='blue')\n",
    "plt.plot(X_train.values,densityPrediction, color='red')\n",
    "\n",
    "plt.show()\n"
   ]
  },
  {
   "cell_type": "code",
   "execution_count": 261,
   "metadata": {},
   "outputs": [
    {
     "data": {
      "text/html": [
       "<table class=\"simpletable\">\n",
       "<caption>OLS Regression Results</caption>\n",
       "<tr>\n",
       "  <th>Dep. Variable:</th>            <td>y</td>        <th>  R-squared:         </th> <td>   0.462</td> \n",
       "</tr>\n",
       "<tr>\n",
       "  <th>Model:</th>                   <td>OLS</td>       <th>  Adj. R-squared:    </th> <td>   0.461</td> \n",
       "</tr>\n",
       "<tr>\n",
       "  <th>Method:</th>             <td>Least Squares</td>  <th>  F-statistic:       </th> <td>   820.3</td> \n",
       "</tr>\n",
       "<tr>\n",
       "  <th>Date:</th>             <td>Fri, 17 Mar 2023</td> <th>  Prob (F-statistic):</th> <td>8.72e-131</td>\n",
       "</tr>\n",
       "<tr>\n",
       "  <th>Time:</th>                 <td>20:09:21</td>     <th>  Log-Likelihood:    </th> <td> -1589.8</td> \n",
       "</tr>\n",
       "<tr>\n",
       "  <th>No. Observations:</th>      <td>   959</td>      <th>  AIC:               </th> <td>   3184.</td> \n",
       "</tr>\n",
       "<tr>\n",
       "  <th>Df Residuals:</th>          <td>   957</td>      <th>  BIC:               </th> <td>   3193.</td> \n",
       "</tr>\n",
       "<tr>\n",
       "  <th>Df Model:</th>              <td>     1</td>      <th>                     </th>     <td> </td>    \n",
       "</tr>\n",
       "<tr>\n",
       "  <th>Covariance Type:</th>      <td>nonrobust</td>    <th>                     </th>     <td> </td>    \n",
       "</tr>\n",
       "</table>\n",
       "<table class=\"simpletable\">\n",
       "<tr>\n",
       "     <td></td>        <th>coef</th>     <th>std err</th>      <th>t</th>      <th>P>|t|</th>  <th>[0.025</th>    <th>0.975]</th>  \n",
       "</tr>\n",
       "<tr>\n",
       "  <th>const</th>   <td> -613.7933</td> <td>   21.721</td> <td>  -28.258</td> <td> 0.000</td> <td> -656.419</td> <td> -571.168</td>\n",
       "</tr>\n",
       "<tr>\n",
       "  <th>density</th> <td>  624.0666</td> <td>   21.790</td> <td>   28.640</td> <td> 0.000</td> <td>  581.305</td> <td>  666.828</td>\n",
       "</tr>\n",
       "</table>\n",
       "<table class=\"simpletable\">\n",
       "<tr>\n",
       "  <th>Omnibus:</th>       <td>48.417</td> <th>  Durbin-Watson:     </th> <td>   1.970</td>\n",
       "</tr>\n",
       "<tr>\n",
       "  <th>Prob(Omnibus):</th> <td> 0.000</td> <th>  Jarque-Bera (JB):  </th> <td>  54.479</td>\n",
       "</tr>\n",
       "<tr>\n",
       "  <th>Skew:</th>          <td> 0.571</td> <th>  Prob(JB):          </th> <td>1.48e-12</td>\n",
       "</tr>\n",
       "<tr>\n",
       "  <th>Kurtosis:</th>      <td> 3.242</td> <th>  Cond. No.          </th> <td>1.06e+03</td>\n",
       "</tr>\n",
       "</table><br/><br/>Notes:<br/>[1] Standard Errors assume that the covariance matrix of the errors is correctly specified.<br/>[2] The condition number is large, 1.06e+03. This might indicate that there are<br/>strong multicollinearity or other numerical problems."
      ],
      "text/plain": [
       "<class 'statsmodels.iolib.summary.Summary'>\n",
       "\"\"\"\n",
       "                            OLS Regression Results                            \n",
       "==============================================================================\n",
       "Dep. Variable:                      y   R-squared:                       0.462\n",
       "Model:                            OLS   Adj. R-squared:                  0.461\n",
       "Method:                 Least Squares   F-statistic:                     820.3\n",
       "Date:                Fri, 17 Mar 2023   Prob (F-statistic):          8.72e-131\n",
       "Time:                        20:09:21   Log-Likelihood:                -1589.8\n",
       "No. Observations:                 959   AIC:                             3184.\n",
       "Df Residuals:                     957   BIC:                             3193.\n",
       "Df Model:                           1                                         \n",
       "Covariance Type:            nonrobust                                         \n",
       "==============================================================================\n",
       "                 coef    std err          t      P>|t|      [0.025      0.975]\n",
       "------------------------------------------------------------------------------\n",
       "const       -613.7933     21.721    -28.258      0.000    -656.419    -571.168\n",
       "density      624.0666     21.790     28.640      0.000     581.305     666.828\n",
       "==============================================================================\n",
       "Omnibus:                       48.417   Durbin-Watson:                   1.970\n",
       "Prob(Omnibus):                  0.000   Jarque-Bera (JB):               54.479\n",
       "Skew:                           0.571   Prob(JB):                     1.48e-12\n",
       "Kurtosis:                       3.242   Cond. No.                     1.06e+03\n",
       "==============================================================================\n",
       "\n",
       "Notes:\n",
       "[1] Standard Errors assume that the covariance matrix of the errors is correctly specified.\n",
       "[2] The condition number is large, 1.06e+03. This might indicate that there are\n",
       "strong multicollinearity or other numerical problems.\n",
       "\"\"\""
      ]
     },
     "execution_count": 261,
     "metadata": {},
     "output_type": "execute_result"
    }
   ],
   "source": [
    "#code to show the results summary\n",
    "x_second=sm.add_constant(X_train)\n",
    "newModel = sm.OLS(Y_train,x_second).fit()\n",
    "newModel.summary()"
   ]
  },
  {
   "cell_type": "markdown",
   "metadata": {},
   "source": [
    "The line again describes the data quite well and the low average deviation seems fine.\n",
    "    \n",
    "The R squared is slightly higher then the volatile acidity. This means that it has a higher chance of predicting the correct y value.\n",
    "    \n",
    "The P for both is 0 which mean the both the const and density are significant indicators for the prediction of the y."
   ]
  },
  {
   "cell_type": "markdown",
   "metadata": {},
   "source": [
    "# 3. Multivariate Regression Analysis"
   ]
  },
  {
   "cell_type": "markdown",
   "metadata": {},
   "source": [
    "In the previous chapter two separate bivariate regression analyses were performed to predict the fixed acidity based on citric acid and density separately. In this chapter we are going to look if we can make an even better prediction if we try to predict fixed acidity based on BOTH of these together."
   ]
  },
  {
   "cell_type": "markdown",
   "metadata": {},
   "source": [
    "We begin with combining the two x's into one X:"
   ]
  },
  {
   "cell_type": "code",
   "execution_count": 262,
   "metadata": {},
   "outputs": [],
   "source": [
    "x_citric_acid = red_wines['citric acid'].to_numpy().reshape((-1,1))\n",
    "x_density = red_wines['density'].to_numpy().reshape((-1,1))\n",
    "y_fixed_acidity = red_wines[\"fixed acidity\"].to_numpy().reshape((-1,1))"
   ]
  },
  {
   "cell_type": "code",
   "execution_count": 263,
   "metadata": {},
   "outputs": [
    {
     "name": "stdout",
     "output_type": "stream",
     "text": [
      "The slope (b1):  [6.00356031]\n",
      "The intercept (b0):  6.692818857207572\n",
      "Coefficient of determination:  0.4511855042738975\n",
      "The slope (b1):  [616.28450984]\n",
      "The intercept (b0):  -605.9599013339026\n",
      "Coefficient of determination:  0.4462871845074944\n",
      "The slope (b1):  [  4.41214101 450.08791355]\n",
      "The intercept (b0):  -441.4995784954545\n",
      "Coefficient of determination:  0.6575202227170487\n"
     ]
    }
   ],
   "source": [
    "#add code here to add the two x's into one\n",
    "def linearRegression(xVal, yVal):\n",
    "    multiModel = LinearRegression().fit(xVal,yVal)\n",
    "    yPred = multiModel.predict(xVal)\n",
    "    b1V2=multiModel.coef_[0]\n",
    "    print('The slope (b1): ',b1V2)\n",
    "\n",
    "    b0V2=multiModel.intercept_\n",
    "    print('The intercept (b0): ',b0V2[0])\n",
    "    det2=metrics.r2_score(yVal,yPred)\n",
    "    print('Coefficient of determination: ',det2)\n",
    "\n",
    "linearRegression(x_citric_acid.reshape(-1,1), y_fixed_acidity)\n",
    "linearRegression(x_density.reshape(-1,1), y_fixed_acidity)\n",
    "multiX=np.hstack((x_citric_acid,x_density))\n",
    "\n",
    "linearRegression(multiX, y_fixed_acidity)\n",
    "\n",
    "#initializes multiseries variable used for vif comparison\n",
    "multiSeries = red_wines[['citric acid', 'density']]\n"
   ]
  },
  {
   "cell_type": "markdown",
   "metadata": {},
   "source": [
    "To actually perform the regression now, we can use the exact same method as before with the bivariate one:"
   ]
  },
  {
   "cell_type": "code",
   "execution_count": 264,
   "metadata": {},
   "outputs": [
    {
     "data": {
      "text/plain": [
       "(1599, 3)"
      ]
     },
     "execution_count": 264,
     "metadata": {},
     "output_type": "execute_result"
    }
   ],
   "source": [
    "#code to split the data, and create & fit the model:\n",
    "newX=sm.add_constant(multiX) #add the constant\n",
    "\n",
    "#adds the constant to the vif comparison at the end\n",
    "multiSeries=sm.add_constant(multiSeries)\n",
    "\n",
    "#splits the data for training and testing\n",
    "x_multi_train, x_multi_test, y_multi_train, y_multi_test = train_test_split(newX, y_fixed_acidity, test_size=0.4, random_state=101)\n",
    "\n",
    "#creates the model with training data\n",
    "newModel=sm.OLS(y_multi_train,x_multi_train).fit()\n",
    "newX.shape\n"
   ]
  },
  {
   "cell_type": "markdown",
   "metadata": {},
   "source": [
    "A visualisation becomes now more difficult, since it would have to be in 3D. (0.5 bonus if you manage to do this). However, the model summary still works:"
   ]
  },
  {
   "cell_type": "code",
   "execution_count": 265,
   "metadata": {},
   "outputs": [],
   "source": [
    "barplot_y = y_multi_train.reshape(1,len(y_multi_train))\n"
   ]
  },
  {
   "cell_type": "code",
   "execution_count": 266,
   "metadata": {},
   "outputs": [
    {
     "data": {
      "text/html": [
       "<table class=\"simpletable\">\n",
       "<caption>OLS Regression Results</caption>\n",
       "<tr>\n",
       "  <th>Dep. Variable:</th>            <td>y</td>        <th>  R-squared:         </th> <td>   0.640</td> \n",
       "</tr>\n",
       "<tr>\n",
       "  <th>Model:</th>                   <td>OLS</td>       <th>  Adj. R-squared:    </th> <td>   0.639</td> \n",
       "</tr>\n",
       "<tr>\n",
       "  <th>Method:</th>             <td>Least Squares</td>  <th>  F-statistic:       </th> <td>   848.5</td> \n",
       "</tr>\n",
       "<tr>\n",
       "  <th>Date:</th>             <td>Fri, 17 Mar 2023</td> <th>  Prob (F-statistic):</th> <td>1.30e-212</td>\n",
       "</tr>\n",
       "<tr>\n",
       "  <th>Time:</th>                 <td>20:09:24</td>     <th>  Log-Likelihood:    </th> <td> -1397.2</td> \n",
       "</tr>\n",
       "<tr>\n",
       "  <th>No. Observations:</th>      <td>   959</td>      <th>  AIC:               </th> <td>   2800.</td> \n",
       "</tr>\n",
       "<tr>\n",
       "  <th>Df Residuals:</th>          <td>   956</td>      <th>  BIC:               </th> <td>   2815.</td> \n",
       "</tr>\n",
       "<tr>\n",
       "  <th>Df Model:</th>              <td>     2</td>      <th>                     </th>     <td> </td>    \n",
       "</tr>\n",
       "<tr>\n",
       "  <th>Covariance Type:</th>      <td>nonrobust</td>    <th>                     </th>     <td> </td>    \n",
       "</tr>\n",
       "</table>\n",
       "<table class=\"simpletable\">\n",
       "<tr>\n",
       "    <td></td>       <th>coef</th>     <th>std err</th>      <th>t</th>      <th>P>|t|</th>  <th>[0.025</th>    <th>0.975]</th>  \n",
       "</tr>\n",
       "<tr>\n",
       "  <th>const</th> <td> -450.4849</td> <td>   19.300</td> <td>  -23.341</td> <td> 0.000</td> <td> -488.360</td> <td> -412.610</td>\n",
       "</tr>\n",
       "<tr>\n",
       "  <th>x1</th>    <td>    4.1490</td> <td>    0.191</td> <td>   21.738</td> <td> 0.000</td> <td>    3.774</td> <td>    4.524</td>\n",
       "</tr>\n",
       "<tr>\n",
       "  <th>x2</th>    <td>  459.0885</td> <td>   19.382</td> <td>   23.686</td> <td> 0.000</td> <td>  421.052</td> <td>  497.125</td>\n",
       "</tr>\n",
       "</table>\n",
       "<table class=\"simpletable\">\n",
       "<tr>\n",
       "  <th>Omnibus:</th>       <td>24.930</td> <th>  Durbin-Watson:     </th> <td>   1.949</td>\n",
       "</tr>\n",
       "<tr>\n",
       "  <th>Prob(Omnibus):</th> <td> 0.000</td> <th>  Jarque-Bera (JB):  </th> <td>  52.764</td>\n",
       "</tr>\n",
       "<tr>\n",
       "  <th>Skew:</th>          <td> 0.070</td> <th>  Prob(JB):          </th> <td>3.49e-12</td>\n",
       "</tr>\n",
       "<tr>\n",
       "  <th>Kurtosis:</th>      <td> 4.141</td> <th>  Cond. No.          </th> <td>1.17e+03</td>\n",
       "</tr>\n",
       "</table><br/><br/>Notes:<br/>[1] Standard Errors assume that the covariance matrix of the errors is correctly specified.<br/>[2] The condition number is large, 1.17e+03. This might indicate that there are<br/>strong multicollinearity or other numerical problems."
      ],
      "text/plain": [
       "<class 'statsmodels.iolib.summary.Summary'>\n",
       "\"\"\"\n",
       "                            OLS Regression Results                            \n",
       "==============================================================================\n",
       "Dep. Variable:                      y   R-squared:                       0.640\n",
       "Model:                            OLS   Adj. R-squared:                  0.639\n",
       "Method:                 Least Squares   F-statistic:                     848.5\n",
       "Date:                Fri, 17 Mar 2023   Prob (F-statistic):          1.30e-212\n",
       "Time:                        20:09:24   Log-Likelihood:                -1397.2\n",
       "No. Observations:                 959   AIC:                             2800.\n",
       "Df Residuals:                     956   BIC:                             2815.\n",
       "Df Model:                           2                                         \n",
       "Covariance Type:            nonrobust                                         \n",
       "==============================================================================\n",
       "                 coef    std err          t      P>|t|      [0.025      0.975]\n",
       "------------------------------------------------------------------------------\n",
       "const       -450.4849     19.300    -23.341      0.000    -488.360    -412.610\n",
       "x1             4.1490      0.191     21.738      0.000       3.774       4.524\n",
       "x2           459.0885     19.382     23.686      0.000     421.052     497.125\n",
       "==============================================================================\n",
       "Omnibus:                       24.930   Durbin-Watson:                   1.949\n",
       "Prob(Omnibus):                  0.000   Jarque-Bera (JB):               52.764\n",
       "Skew:                           0.070   Prob(JB):                     3.49e-12\n",
       "Kurtosis:                       4.141   Cond. No.                     1.17e+03\n",
       "==============================================================================\n",
       "\n",
       "Notes:\n",
       "[1] Standard Errors assume that the covariance matrix of the errors is correctly specified.\n",
       "[2] The condition number is large, 1.17e+03. This might indicate that there are\n",
       "strong multicollinearity or other numerical problems.\n",
       "\"\"\""
      ]
     },
     "execution_count": 266,
     "metadata": {},
     "output_type": "execute_result"
    },
    {
     "data": {
      "image/png": "[encoded data removed]",
      "text/plain": [
       "<Figure size 432x288 with 1 Axes>"
      ]
     },
     "metadata": {
      "needs_background": "light"
     },
     "output_type": "display_data"
    }
   ],
   "source": [
    "df = pd.DataFrame({'citric acid': x_multi_train[:,1][:10],\n",
    "                   'density': x_multi_train[:,2][:10],\n",
    "                   'fixed acidity': barplot_y[0][:10]})\n",
    "\n",
    "#this is the most clear and concise visualization of all time\n",
    "#this technically does show all three variables in a plot. Readability is another matter.\n",
    "#3d scatterplots are overrated\n",
    "sns.barplot(x='citric acid', y='fixed acidity', hue='density', data=df)\n",
    "\n",
    "#code to show model summary and how well the model performmed\n",
    "newModel.summary()\n",
    "\n"
   ]
  },
  {
   "cell_type": "markdown",
   "metadata": {},
   "source": [
    "The R-square always increases when more variables are added since it optimistically estimates the fit of the linear regression. The adjusted R-square attempts to correct for this overrestimation."
   ]
  },
  {
   "cell_type": "markdown",
   "metadata": {},
   "source": [
    "    \n",
    "The coefficient column now has three values. The const for normalization, the citric acid and density. The P value is 0 for all three which indicates that all values are important for the prediction"
   ]
  },
  {
   "cell_type": "markdown",
   "metadata": {},
   "source": [
    "This model performs better then the previous models. The previus models had an Adj R-squared of 0.462 and 0.428 respectively. The new model has a Adj R-squared of 0.639 which is around 20 percent better."
   ]
  },
  {
   "cell_type": "markdown",
   "metadata": {},
   "source": [
    "A last thing to do would be to check the VIF's:"
   ]
  },
  {
   "cell_type": "code",
   "execution_count": 267,
   "metadata": {},
   "outputs": [
    {
     "name": "stdout",
     "output_type": "stream",
     "text": [
      "       feature            VIF\n",
      "0        const  321356.229888\n",
      "1  citric acid       1.153651\n",
      "2      density       1.153651\n"
     ]
    }
   ],
   "source": [
    "#add code here to see the VIF's\n",
    "from statsmodels.stats.outliers_influence import variance_inflation_factor\n",
    "\n",
    "# VIF dataframe\n",
    "vif_data = pd.DataFrame()\n",
    "vif_data[\"feature\"] = multiSeries.columns\n",
    "  \n",
    "# calculating VIF for each feature\n",
    "vif_data[\"VIF\"] = [variance_inflation_factor(multiSeries.values, i)\n",
    "                          for i in range(len(multiSeries.columns))]\n",
    "  \n",
    "print(vif_data)\n"
   ]
  },
  {
   "cell_type": "markdown",
   "metadata": {},
   "source": [
    "Generally, a VIF above 10 indicates a high multicollinearity. The const can be ignored according to this thread: https://365datascience.com/question/variance_inflation_factor-for-constants/. So the VIF is acceptable"
   ]
  },
  {
   "cell_type": "markdown",
   "metadata": {},
   "source": [
    "<font size=\"5\"><center>-----Chapters 1 to 3 are required to be fully completed to get a 60, the next few chapters will give a +10 for each chapter.<br> \n",
    "    However the template is not as extensive as the previous chapters. <br>\n",
    "    You can select any chapter below the order is not fixed (you can leave the others empty)<br>\n",
    "    You don't have to use the same dataset for the chapters below. If it helps in clarification you can use another dataset, but then make sure to include it as you submit.\n",
    "    ----</center></font>"
   ]
  },
  {
   "cell_type": "markdown",
   "metadata": {},
   "source": [
    "# 4. Selecting Input Variables"
   ]
  },
  {
   "cell_type": "markdown",
   "metadata": {},
   "source": [
    "In chapter 3 we improved on the model to predict the fixed acidity by using two input variables. We can actually add as many input variables as we like. Lets explore this by simply first adding ALL other variables as X."
   ]
  },
  {
   "cell_type": "code",
   "execution_count": 268,
   "metadata": {},
   "outputs": [],
   "source": [
    "#add code to create an X variable using all variables, except of course your y variable:\n",
    "\n",
    "\n",
    "allSeriesWithoutConst = red_wines[['citric acid',\n",
    "                                   'volatile acidity',\n",
    "                                   'total sulfur dioxide',\n",
    "                         'density', \n",
    "                         'residual sugar', \n",
    "                         'chlorides', \n",
    "                         'free sulfur dioxide',\n",
    "                         'pH',\n",
    "                         'sulphates',\n",
    "                         'alcohol',\n",
    "                         'quality'\n",
    "                        ]]\n",
    "\n"
   ]
  },
  {
   "cell_type": "markdown",
   "metadata": {},
   "source": [
    "We could first have a quick look at the results of this model:"
   ]
  },
  {
   "cell_type": "code",
   "execution_count": 269,
   "metadata": {},
   "outputs": [
    {
     "data": {
      "text/html": [
       "<table class=\"simpletable\">\n",
       "<caption>OLS Regression Results</caption>\n",
       "<tr>\n",
       "  <th>Dep. Variable:</th>            <td>y</td>        <th>  R-squared:         </th> <td>   0.862</td>\n",
       "</tr>\n",
       "<tr>\n",
       "  <th>Model:</th>                   <td>OLS</td>       <th>  Adj. R-squared:    </th> <td>   0.860</td>\n",
       "</tr>\n",
       "<tr>\n",
       "  <th>Method:</th>             <td>Least Squares</td>  <th>  F-statistic:       </th> <td>   537.8</td>\n",
       "</tr>\n",
       "<tr>\n",
       "  <th>Date:</th>             <td>Fri, 17 Mar 2023</td> <th>  Prob (F-statistic):</th>  <td>  0.00</td> \n",
       "</tr>\n",
       "<tr>\n",
       "  <th>Time:</th>                 <td>20:09:31</td>     <th>  Log-Likelihood:    </th> <td> -936.93</td>\n",
       "</tr>\n",
       "<tr>\n",
       "  <th>No. Observations:</th>      <td>   959</td>      <th>  AIC:               </th> <td>   1898.</td>\n",
       "</tr>\n",
       "<tr>\n",
       "  <th>Df Residuals:</th>          <td>   947</td>      <th>  BIC:               </th> <td>   1956.</td>\n",
       "</tr>\n",
       "<tr>\n",
       "  <th>Df Model:</th>              <td>    11</td>      <th>                     </th>     <td> </td>   \n",
       "</tr>\n",
       "<tr>\n",
       "  <th>Covariance Type:</th>      <td>nonrobust</td>    <th>                     </th>     <td> </td>   \n",
       "</tr>\n",
       "</table>\n",
       "<table class=\"simpletable\">\n",
       "<tr>\n",
       "    <td></td>       <th>coef</th>     <th>std err</th>      <th>t</th>      <th>P>|t|</th>  <th>[0.025</th>    <th>0.975]</th>  \n",
       "</tr>\n",
       "<tr>\n",
       "  <th>const</th> <td> -628.9241</td> <td>   17.735</td> <td>  -35.462</td> <td> 0.000</td> <td> -663.729</td> <td> -594.120</td>\n",
       "</tr>\n",
       "<tr>\n",
       "  <th>x1</th>    <td>    1.8367</td> <td>    0.181</td> <td>   10.126</td> <td> 0.000</td> <td>    1.481</td> <td>    2.193</td>\n",
       "</tr>\n",
       "<tr>\n",
       "  <th>x2</th>    <td>    0.3826</td> <td>    0.163</td> <td>    2.346</td> <td> 0.019</td> <td>    0.063</td> <td>    0.703</td>\n",
       "</tr>\n",
       "<tr>\n",
       "  <th>x3</th>    <td>   -0.0068</td> <td>    0.001</td> <td>   -7.290</td> <td> 0.000</td> <td>   -0.009</td> <td>   -0.005</td>\n",
       "</tr>\n",
       "<tr>\n",
       "  <th>x4</th>    <td>  651.8702</td> <td>   17.661</td> <td>   36.910</td> <td> 0.000</td> <td>  617.211</td> <td>  686.530</td>\n",
       "</tr>\n",
       "<tr>\n",
       "  <th>x5</th>    <td>   -0.2607</td> <td>    0.016</td> <td>  -15.895</td> <td> 0.000</td> <td>   -0.293</td> <td>   -0.229</td>\n",
       "</tr>\n",
       "<tr>\n",
       "  <th>x6</th>    <td>   -3.9145</td> <td>    0.505</td> <td>   -7.750</td> <td> 0.000</td> <td>   -4.906</td> <td>   -2.923</td>\n",
       "</tr>\n",
       "<tr>\n",
       "  <th>x7</th>    <td>    0.0111</td> <td>    0.003</td> <td>    4.071</td> <td> 0.000</td> <td>    0.006</td> <td>    0.016</td>\n",
       "</tr>\n",
       "<tr>\n",
       "  <th>x8</th>    <td>   -5.2223</td> <td>    0.174</td> <td>  -30.075</td> <td> 0.000</td> <td>   -5.563</td> <td>   -4.881</td>\n",
       "</tr>\n",
       "<tr>\n",
       "  <th>x9</th>    <td>   -0.6417</td> <td>    0.143</td> <td>   -4.473</td> <td> 0.000</td> <td>   -0.923</td> <td>   -0.360</td>\n",
       "</tr>\n",
       "<tr>\n",
       "  <th>x10</th>   <td>    0.5146</td> <td>    0.032</td> <td>   16.236</td> <td> 0.000</td> <td>    0.452</td> <td>    0.577</td>\n",
       "</tr>\n",
       "<tr>\n",
       "  <th>x11</th>   <td>    0.0465</td> <td>    0.034</td> <td>    1.380</td> <td> 0.168</td> <td>   -0.020</td> <td>    0.113</td>\n",
       "</tr>\n",
       "</table>\n",
       "<table class=\"simpletable\">\n",
       "<tr>\n",
       "  <th>Omnibus:</th>       <td>103.402</td> <th>  Durbin-Watson:     </th> <td>   1.953</td>\n",
       "</tr>\n",
       "<tr>\n",
       "  <th>Prob(Omnibus):</th> <td> 0.000</td>  <th>  Jarque-Bera (JB):  </th> <td> 323.932</td>\n",
       "</tr>\n",
       "<tr>\n",
       "  <th>Skew:</th>          <td> 0.519</td>  <th>  Prob(JB):          </th> <td>4.56e-71</td>\n",
       "</tr>\n",
       "<tr>\n",
       "  <th>Kurtosis:</th>      <td> 5.651</td>  <th>  Cond. No.          </th> <td>7.37e+04</td>\n",
       "</tr>\n",
       "</table><br/><br/>Notes:<br/>[1] Standard Errors assume that the covariance matrix of the errors is correctly specified.<br/>[2] The condition number is large, 7.37e+04. This might indicate that there are<br/>strong multicollinearity or other numerical problems."
      ],
      "text/plain": [
       "<class 'statsmodels.iolib.summary.Summary'>\n",
       "\"\"\"\n",
       "                            OLS Regression Results                            \n",
       "==============================================================================\n",
       "Dep. Variable:                      y   R-squared:                       0.862\n",
       "Model:                            OLS   Adj. R-squared:                  0.860\n",
       "Method:                 Least Squares   F-statistic:                     537.8\n",
       "Date:                Fri, 17 Mar 2023   Prob (F-statistic):               0.00\n",
       "Time:                        20:09:31   Log-Likelihood:                -936.93\n",
       "No. Observations:                 959   AIC:                             1898.\n",
       "Df Residuals:                     947   BIC:                             1956.\n",
       "Df Model:                          11                                         \n",
       "Covariance Type:            nonrobust                                         \n",
       "==============================================================================\n",
       "                 coef    std err          t      P>|t|      [0.025      0.975]\n",
       "------------------------------------------------------------------------------\n",
       "const       -628.9241     17.735    -35.462      0.000    -663.729    -594.120\n",
       "x1             1.8367      0.181     10.126      0.000       1.481       2.193\n",
       "x2             0.3826      0.163      2.346      0.019       0.063       0.703\n",
       "x3            -0.0068      0.001     -7.290      0.000      -0.009      -0.005\n",
       "x4           651.8702     17.661     36.910      0.000     617.211     686.530\n",
       "x5            -0.2607      0.016    -15.895      0.000      -0.293      -0.229\n",
       "x6            -3.9145      0.505     -7.750      0.000      -4.906      -2.923\n",
       "x7             0.0111      0.003      4.071      0.000       0.006       0.016\n",
       "x8            -5.2223      0.174    -30.075      0.000      -5.563      -4.881\n",
       "x9            -0.6417      0.143     -4.473      0.000      -0.923      -0.360\n",
       "x10            0.5146      0.032     16.236      0.000       0.452       0.577\n",
       "x11            0.0465      0.034      1.380      0.168      -0.020       0.113\n",
       "==============================================================================\n",
       "Omnibus:                      103.402   Durbin-Watson:                   1.953\n",
       "Prob(Omnibus):                  0.000   Jarque-Bera (JB):              323.932\n",
       "Skew:                           0.519   Prob(JB):                     4.56e-71\n",
       "Kurtosis:                       5.651   Cond. No.                     7.37e+04\n",
       "==============================================================================\n",
       "\n",
       "Notes:\n",
       "[1] Standard Errors assume that the covariance matrix of the errors is correctly specified.\n",
       "[2] The condition number is large, 7.37e+04. This might indicate that there are\n",
       "strong multicollinearity or other numerical problems.\n",
       "\"\"\""
      ]
     },
     "execution_count": 269,
     "metadata": {},
     "output_type": "execute_result"
    }
   ],
   "source": [
    "#add code here to model and fit the new X with the y, and show the model summary and how well the model performmed:\n",
    "#code to split the data, and create & fit the model:\n",
    "\n",
    "#adds the constant to the vif comparison at the end\n",
    "allSeries=sm.add_constant(allSeriesWithoutConst)\n",
    "newAllX = allSeries.to_numpy()\n",
    "\n",
    "#splits the data for training and testing\n",
    "x_multi_train, x_multi_test, y_multi_train, y_multi_test = train_test_split(newAllX, y_fixed_acidity, test_size=0.4, random_state=101)\n",
    "\n",
    "#creates the model with training data\n",
    "allModel=sm.OLS(y_multi_train,x_multi_train).fit()\n",
    "\n",
    "#code to show model summary and how well the model performmed\n",
    "allModel.summary()"
   ]
  },
  {
   "cell_type": "code",
   "execution_count": null,
   "metadata": {},
   "outputs": [],
   "source": []
  },
  {
   "cell_type": "markdown",
   "metadata": {},
   "source": [
    "However we have to be careful with those VIF's. So lets see:"
   ]
  },
  {
   "cell_type": "code",
   "execution_count": 270,
   "metadata": {},
   "outputs": [
    {
     "name": "stdout",
     "output_type": "stream",
     "text": [
      "                 feature            VIF\n",
      "0                  const  687618.405286\n",
      "1            citric acid       2.782222\n",
      "2       volatile acidity       1.874221\n",
      "3   total sulfur dioxide       2.099856\n",
      "4                density       2.430116\n",
      "5         residual sugar       1.386862\n",
      "6              chlorides       1.421802\n",
      "7    free sulfur dioxide       1.944737\n",
      "8                     pH       1.627819\n",
      "9              sulphates       1.452106\n",
      "10               alcohol       2.365045\n",
      "11               quality       1.562935\n",
      "<class 'pandas.core.frame.DataFrame'>\n",
      "687618.4052864931\n"
     ]
    }
   ],
   "source": [
    "#add code here to show the VIF's.\n",
    "from statsmodels.stats.outliers_influence import variance_inflation_factor\n",
    "\n",
    "# VIF dataframe\n",
    "vif_data = pd.DataFrame()\n",
    "vif_data[\"feature\"] = allSeries.columns\n",
    "  \n",
    "# calculating VIF for each feature\n",
    "vif_data[\"VIF\"] = [variance_inflation_factor(allSeries.values, i)\n",
    "                          for i in range(len(allSeries.columns))]\n",
    "  \n",
    "print(vif_data)\n",
    "print(type(vif_data))\n",
    "print(vif_data['VIF'].values[0])"
   ]
  },
  {
   "cell_type": "code",
   "execution_count": 271,
   "metadata": {},
   "outputs": [
    {
     "name": "stdout",
     "output_type": "stream",
     "text": [
      "                 feature            VIF\n",
      "0                  const  687618.405286\n",
      "1            citric acid       2.782222\n",
      "2       volatile acidity       1.874221\n",
      "3   total sulfur dioxide       2.099856\n",
      "4                density       2.430116\n",
      "5         residual sugar       1.386862\n",
      "6              chlorides       1.421802\n",
      "7    free sulfur dioxide       1.944737\n",
      "8                     pH       1.627819\n",
      "9              sulphates       1.452106\n",
      "10               alcohol       2.365045\n",
      "11               quality       1.562935\n"
     ]
    }
   ],
   "source": [
    "print(vif_data)"
   ]
  },
  {
   "cell_type": "markdown",
   "metadata": {},
   "source": [
    "We need to remove the ones with a VIF higher than 10, but each time we remove one, the VIF's change. Lets create a small Python function that removes the highest VIF each time, until none of them are anymore above 10."
   ]
  },
  {
   "cell_type": "code",
   "execution_count": 272,
   "metadata": {},
   "outputs": [],
   "source": [
    "#add your function code here.\n",
    "\n",
    "#this dataset has no vifs higher then 10 but the code would remove these if it were the case.\n",
    "\n",
    "def filter_vif():\n",
    "    print('reiterate')\n",
    "    # VIF dataframe\n",
    "    vif_data = pd.DataFrame()\n",
    "    vif_data[\"feature\"] = allSeries.columns\n",
    "\n",
    "    # calculating VIF for each feature\n",
    "    vif_data[\"VIF\"] = [variance_inflation_factor(allSeries.values, i)\n",
    "                              for i in range(len(allSeries.columns))]\n",
    "    \n",
    "    #remove const for comparison\n",
    "    vif_data_without_const = vif_data[vif_data[\"feature\"].str.contains(\"const\") == False]\n",
    "    \n",
    "    #if column that is not const is higher then 10 continue\n",
    "    if vif_data_without_const[\"VIF\"].max() < 10:\n",
    "        return\n",
    "\n",
    "    for x, feature in enumerate(vif_data_without_const.values):\n",
    "        if feature[1] > 10:\n",
    "            print(feature)\n",
    "            del allSeries[feature[0]]\n",
    "            #callback to recalculate vif\n",
    "            filter_vif()\n"
   ]
  },
  {
   "cell_type": "markdown",
   "metadata": {},
   "source": [
    "Lets run the function, and then use the result to create a new model:"
   ]
  },
  {
   "cell_type": "code",
   "execution_count": 273,
   "metadata": {},
   "outputs": [
    {
     "name": "stdout",
     "output_type": "stream",
     "text": [
      "reiterate\n",
      "['citric acid' 2.782221944683222]\n",
      "['volatile acidity' 1.8742205522540125]\n",
      "['total sulfur dioxide' 2.099856419827355]\n",
      "['density' 2.4301160918302283]\n",
      "['residual sugar' 1.386861909980855]\n",
      "['chlorides' 1.4218015889503421]\n",
      "['free sulfur dioxide' 1.9447372352847598]\n",
      "['pH' 1.6278185619612653]\n",
      "['sulphates' 1.4521061791083671]\n",
      "['alcohol' 2.3650454212835883]\n",
      "['quality' 1.5629346301972316]\n"
     ]
    },
    {
     "data": {
      "text/html": [
       "<table class=\"simpletable\">\n",
       "<caption>OLS Regression Results</caption>\n",
       "<tr>\n",
       "  <th>Dep. Variable:</th>            <td>y</td>        <th>  R-squared:         </th> <td>   0.862</td>\n",
       "</tr>\n",
       "<tr>\n",
       "  <th>Model:</th>                   <td>OLS</td>       <th>  Adj. R-squared:    </th> <td>   0.860</td>\n",
       "</tr>\n",
       "<tr>\n",
       "  <th>Method:</th>             <td>Least Squares</td>  <th>  F-statistic:       </th> <td>   537.8</td>\n",
       "</tr>\n",
       "<tr>\n",
       "  <th>Date:</th>             <td>Fri, 17 Mar 2023</td> <th>  Prob (F-statistic):</th>  <td>  0.00</td> \n",
       "</tr>\n",
       "<tr>\n",
       "  <th>Time:</th>                 <td>20:09:35</td>     <th>  Log-Likelihood:    </th> <td> -936.93</td>\n",
       "</tr>\n",
       "<tr>\n",
       "  <th>No. Observations:</th>      <td>   959</td>      <th>  AIC:               </th> <td>   1898.</td>\n",
       "</tr>\n",
       "<tr>\n",
       "  <th>Df Residuals:</th>          <td>   947</td>      <th>  BIC:               </th> <td>   1956.</td>\n",
       "</tr>\n",
       "<tr>\n",
       "  <th>Df Model:</th>              <td>    11</td>      <th>                     </th>     <td> </td>   \n",
       "</tr>\n",
       "<tr>\n",
       "  <th>Covariance Type:</th>      <td>nonrobust</td>    <th>                     </th>     <td> </td>   \n",
       "</tr>\n",
       "</table>\n",
       "<table class=\"simpletable\">\n",
       "<tr>\n",
       "    <td></td>       <th>coef</th>     <th>std err</th>      <th>t</th>      <th>P>|t|</th>  <th>[0.025</th>    <th>0.975]</th>  \n",
       "</tr>\n",
       "<tr>\n",
       "  <th>const</th> <td> -628.9241</td> <td>   17.735</td> <td>  -35.462</td> <td> 0.000</td> <td> -663.729</td> <td> -594.120</td>\n",
       "</tr>\n",
       "<tr>\n",
       "  <th>x1</th>    <td>    1.8367</td> <td>    0.181</td> <td>   10.126</td> <td> 0.000</td> <td>    1.481</td> <td>    2.193</td>\n",
       "</tr>\n",
       "<tr>\n",
       "  <th>x2</th>    <td>    0.3826</td> <td>    0.163</td> <td>    2.346</td> <td> 0.019</td> <td>    0.063</td> <td>    0.703</td>\n",
       "</tr>\n",
       "<tr>\n",
       "  <th>x3</th>    <td>   -0.0068</td> <td>    0.001</td> <td>   -7.290</td> <td> 0.000</td> <td>   -0.009</td> <td>   -0.005</td>\n",
       "</tr>\n",
       "<tr>\n",
       "  <th>x4</th>    <td>  651.8702</td> <td>   17.661</td> <td>   36.910</td> <td> 0.000</td> <td>  617.211</td> <td>  686.530</td>\n",
       "</tr>\n",
       "<tr>\n",
       "  <th>x5</th>    <td>   -0.2607</td> <td>    0.016</td> <td>  -15.895</td> <td> 0.000</td> <td>   -0.293</td> <td>   -0.229</td>\n",
       "</tr>\n",
       "<tr>\n",
       "  <th>x6</th>    <td>   -3.9145</td> <td>    0.505</td> <td>   -7.750</td> <td> 0.000</td> <td>   -4.906</td> <td>   -2.923</td>\n",
       "</tr>\n",
       "<tr>\n",
       "  <th>x7</th>    <td>    0.0111</td> <td>    0.003</td> <td>    4.071</td> <td> 0.000</td> <td>    0.006</td> <td>    0.016</td>\n",
       "</tr>\n",
       "<tr>\n",
       "  <th>x8</th>    <td>   -5.2223</td> <td>    0.174</td> <td>  -30.075</td> <td> 0.000</td> <td>   -5.563</td> <td>   -4.881</td>\n",
       "</tr>\n",
       "<tr>\n",
       "  <th>x9</th>    <td>   -0.6417</td> <td>    0.143</td> <td>   -4.473</td> <td> 0.000</td> <td>   -0.923</td> <td>   -0.360</td>\n",
       "</tr>\n",
       "<tr>\n",
       "  <th>x10</th>   <td>    0.5146</td> <td>    0.032</td> <td>   16.236</td> <td> 0.000</td> <td>    0.452</td> <td>    0.577</td>\n",
       "</tr>\n",
       "<tr>\n",
       "  <th>x11</th>   <td>    0.0465</td> <td>    0.034</td> <td>    1.380</td> <td> 0.168</td> <td>   -0.020</td> <td>    0.113</td>\n",
       "</tr>\n",
       "</table>\n",
       "<table class=\"simpletable\">\n",
       "<tr>\n",
       "  <th>Omnibus:</th>       <td>103.402</td> <th>  Durbin-Watson:     </th> <td>   1.953</td>\n",
       "</tr>\n",
       "<tr>\n",
       "  <th>Prob(Omnibus):</th> <td> 0.000</td>  <th>  Jarque-Bera (JB):  </th> <td> 323.932</td>\n",
       "</tr>\n",
       "<tr>\n",
       "  <th>Skew:</th>          <td> 0.519</td>  <th>  Prob(JB):          </th> <td>4.56e-71</td>\n",
       "</tr>\n",
       "<tr>\n",
       "  <th>Kurtosis:</th>      <td> 5.651</td>  <th>  Cond. No.          </th> <td>7.37e+04</td>\n",
       "</tr>\n",
       "</table><br/><br/>Notes:<br/>[1] Standard Errors assume that the covariance matrix of the errors is correctly specified.<br/>[2] The condition number is large, 7.37e+04. This might indicate that there are<br/>strong multicollinearity or other numerical problems."
      ],
      "text/plain": [
       "<class 'statsmodels.iolib.summary.Summary'>\n",
       "\"\"\"\n",
       "                            OLS Regression Results                            \n",
       "==============================================================================\n",
       "Dep. Variable:                      y   R-squared:                       0.862\n",
       "Model:                            OLS   Adj. R-squared:                  0.860\n",
       "Method:                 Least Squares   F-statistic:                     537.8\n",
       "Date:                Fri, 17 Mar 2023   Prob (F-statistic):               0.00\n",
       "Time:                        20:09:35   Log-Likelihood:                -936.93\n",
       "No. Observations:                 959   AIC:                             1898.\n",
       "Df Residuals:                     947   BIC:                             1956.\n",
       "Df Model:                          11                                         \n",
       "Covariance Type:            nonrobust                                         \n",
       "==============================================================================\n",
       "                 coef    std err          t      P>|t|      [0.025      0.975]\n",
       "------------------------------------------------------------------------------\n",
       "const       -628.9241     17.735    -35.462      0.000    -663.729    -594.120\n",
       "x1             1.8367      0.181     10.126      0.000       1.481       2.193\n",
       "x2             0.3826      0.163      2.346      0.019       0.063       0.703\n",
       "x3            -0.0068      0.001     -7.290      0.000      -0.009      -0.005\n",
       "x4           651.8702     17.661     36.910      0.000     617.211     686.530\n",
       "x5            -0.2607      0.016    -15.895      0.000      -0.293      -0.229\n",
       "x6            -3.9145      0.505     -7.750      0.000      -4.906      -2.923\n",
       "x7             0.0111      0.003      4.071      0.000       0.006       0.016\n",
       "x8            -5.2223      0.174    -30.075      0.000      -5.563      -4.881\n",
       "x9            -0.6417      0.143     -4.473      0.000      -0.923      -0.360\n",
       "x10            0.5146      0.032     16.236      0.000       0.452       0.577\n",
       "x11            0.0465      0.034      1.380      0.168      -0.020       0.113\n",
       "==============================================================================\n",
       "Omnibus:                      103.402   Durbin-Watson:                   1.953\n",
       "Prob(Omnibus):                  0.000   Jarque-Bera (JB):              323.932\n",
       "Skew:                           0.519   Prob(JB):                     4.56e-71\n",
       "Kurtosis:                       5.651   Cond. No.                     7.37e+04\n",
       "==============================================================================\n",
       "\n",
       "Notes:\n",
       "[1] Standard Errors assume that the covariance matrix of the errors is correctly specified.\n",
       "[2] The condition number is large, 7.37e+04. This might indicate that there are\n",
       "strong multicollinearity or other numerical problems.\n",
       "\"\"\""
      ]
     },
     "execution_count": 273,
     "metadata": {},
     "output_type": "execute_result"
    }
   ],
   "source": [
    "#add code here that runs the just made function, and uses the result for the new model:\n",
    "filter_fiv()\n",
    "\n",
    "filtered_x = allSeries.to_numpy()\n",
    "\n",
    "#splits the data for training and testing\n",
    "x_multi_train, x_multi_test, y_multi_train, y_multi_test = train_test_split(filtered_x, y_fixed_acidity, test_size=0.4, random_state=101)\n",
    "\n",
    "#creates the model with training data\n",
    "allModel=sm.OLS(y_multi_train,x_multi_train).fit()\n",
    "\n",
    "#code to show model summary and how well the model performmed\n",
    "allModel.summary()\n"
   ]
  },
  {
   "cell_type": "markdown",
   "metadata": {},
   "source": [
    "We might also keep an eye out on that adjusted R-square. Iterate over all possible combinations of input variables we have remaining, and see which combination yields the highest adjusted R-square."
   ]
  },
  {
   "cell_type": "code",
   "execution_count": 274,
   "metadata": {},
   "outputs": [
    {
     "name": "stdout",
     "output_type": "stream",
     "text": [
      "Best variables ('volatile acidity', 'citric acid', 'residual sugar', 'chlorides', 'free sulfur dioxide', 'total sulfur dioxide', 'density', 'pH', 'sulphates', 'alcohol', 'quality') for a R-value of 0.87133\n"
     ]
    }
   ],
   "source": [
    "#add your code here.\n",
    "from itertools import combinations\n",
    "\n",
    "\n",
    "# all possible columns for X\n",
    "# define Y as same accross the loops\n",
    "cols = [x for x in red_wines.columns if x != 'fixed acidity']\n",
    "\n",
    "# define result dictionary\n",
    "fit_d = {}\n",
    "\n",
    "# loop for any length of combinations\n",
    "for i in range(1, len(cols)+1):\n",
    "    # loop for any combinations with length i\n",
    "    for comb in combinations(cols, i):\n",
    "        # Define X from the combination\n",
    "        X = red_wines[list(comb)]\n",
    "        X = sm.add_constant(X)\n",
    "        # perform the OLS opertion\n",
    "        model = sm.OLS(y_fixed_acidity,X, missing = 'drop').fit()\n",
    "        # save the rsquared in a dictionnary\n",
    "        fit_d[comb] = model.rsquared\n",
    "\n",
    "# extract the key for the max R value\n",
    "key_max = max(fit_d, key=fit_d.get)\n",
    "\n",
    "print(f'Best variables {key_max} for a R-value of {round(fit_d[key_max], 5)}')\n"
   ]
  },
  {
   "cell_type": "markdown",
   "metadata": {},
   "source": [
    "Finally lets see how this new model performs:"
   ]
  },
  {
   "cell_type": "code",
   "execution_count": 275,
   "metadata": {},
   "outputs": [
    {
     "data": {
      "text/html": [
       "<table class=\"simpletable\">\n",
       "<caption>OLS Regression Results</caption>\n",
       "<tr>\n",
       "  <th>Dep. Variable:</th>            <td>y</td>        <th>  R-squared:         </th> <td>   0.862</td>\n",
       "</tr>\n",
       "<tr>\n",
       "  <th>Model:</th>                   <td>OLS</td>       <th>  Adj. R-squared:    </th> <td>   0.860</td>\n",
       "</tr>\n",
       "<tr>\n",
       "  <th>Method:</th>             <td>Least Squares</td>  <th>  F-statistic:       </th> <td>   537.8</td>\n",
       "</tr>\n",
       "<tr>\n",
       "  <th>Date:</th>             <td>Fri, 17 Mar 2023</td> <th>  Prob (F-statistic):</th>  <td>  0.00</td> \n",
       "</tr>\n",
       "<tr>\n",
       "  <th>Time:</th>                 <td>20:09:43</td>     <th>  Log-Likelihood:    </th> <td> -936.93</td>\n",
       "</tr>\n",
       "<tr>\n",
       "  <th>No. Observations:</th>      <td>   959</td>      <th>  AIC:               </th> <td>   1898.</td>\n",
       "</tr>\n",
       "<tr>\n",
       "  <th>Df Residuals:</th>          <td>   947</td>      <th>  BIC:               </th> <td>   1956.</td>\n",
       "</tr>\n",
       "<tr>\n",
       "  <th>Df Model:</th>              <td>    11</td>      <th>                     </th>     <td> </td>   \n",
       "</tr>\n",
       "<tr>\n",
       "  <th>Covariance Type:</th>      <td>nonrobust</td>    <th>                     </th>     <td> </td>   \n",
       "</tr>\n",
       "</table>\n",
       "<table class=\"simpletable\">\n",
       "<tr>\n",
       "    <td></td>       <th>coef</th>     <th>std err</th>      <th>t</th>      <th>P>|t|</th>  <th>[0.025</th>    <th>0.975]</th>  \n",
       "</tr>\n",
       "<tr>\n",
       "  <th>const</th> <td> -628.9241</td> <td>   17.735</td> <td>  -35.462</td> <td> 0.000</td> <td> -663.729</td> <td> -594.120</td>\n",
       "</tr>\n",
       "<tr>\n",
       "  <th>x1</th>    <td>    1.8367</td> <td>    0.181</td> <td>   10.126</td> <td> 0.000</td> <td>    1.481</td> <td>    2.193</td>\n",
       "</tr>\n",
       "<tr>\n",
       "  <th>x2</th>    <td>    0.3826</td> <td>    0.163</td> <td>    2.346</td> <td> 0.019</td> <td>    0.063</td> <td>    0.703</td>\n",
       "</tr>\n",
       "<tr>\n",
       "  <th>x3</th>    <td>   -0.0068</td> <td>    0.001</td> <td>   -7.290</td> <td> 0.000</td> <td>   -0.009</td> <td>   -0.005</td>\n",
       "</tr>\n",
       "<tr>\n",
       "  <th>x4</th>    <td>  651.8702</td> <td>   17.661</td> <td>   36.910</td> <td> 0.000</td> <td>  617.211</td> <td>  686.530</td>\n",
       "</tr>\n",
       "<tr>\n",
       "  <th>x5</th>    <td>   -0.2607</td> <td>    0.016</td> <td>  -15.895</td> <td> 0.000</td> <td>   -0.293</td> <td>   -0.229</td>\n",
       "</tr>\n",
       "<tr>\n",
       "  <th>x6</th>    <td>   -3.9145</td> <td>    0.505</td> <td>   -7.750</td> <td> 0.000</td> <td>   -4.906</td> <td>   -2.923</td>\n",
       "</tr>\n",
       "<tr>\n",
       "  <th>x7</th>    <td>    0.0111</td> <td>    0.003</td> <td>    4.071</td> <td> 0.000</td> <td>    0.006</td> <td>    0.016</td>\n",
       "</tr>\n",
       "<tr>\n",
       "  <th>x8</th>    <td>   -5.2223</td> <td>    0.174</td> <td>  -30.075</td> <td> 0.000</td> <td>   -5.563</td> <td>   -4.881</td>\n",
       "</tr>\n",
       "<tr>\n",
       "  <th>x9</th>    <td>   -0.6417</td> <td>    0.143</td> <td>   -4.473</td> <td> 0.000</td> <td>   -0.923</td> <td>   -0.360</td>\n",
       "</tr>\n",
       "<tr>\n",
       "  <th>x10</th>   <td>    0.5146</td> <td>    0.032</td> <td>   16.236</td> <td> 0.000</td> <td>    0.452</td> <td>    0.577</td>\n",
       "</tr>\n",
       "<tr>\n",
       "  <th>x11</th>   <td>    0.0465</td> <td>    0.034</td> <td>    1.380</td> <td> 0.168</td> <td>   -0.020</td> <td>    0.113</td>\n",
       "</tr>\n",
       "</table>\n",
       "<table class=\"simpletable\">\n",
       "<tr>\n",
       "  <th>Omnibus:</th>       <td>103.402</td> <th>  Durbin-Watson:     </th> <td>   1.953</td>\n",
       "</tr>\n",
       "<tr>\n",
       "  <th>Prob(Omnibus):</th> <td> 0.000</td>  <th>  Jarque-Bera (JB):  </th> <td> 323.932</td>\n",
       "</tr>\n",
       "<tr>\n",
       "  <th>Skew:</th>          <td> 0.519</td>  <th>  Prob(JB):          </th> <td>4.56e-71</td>\n",
       "</tr>\n",
       "<tr>\n",
       "  <th>Kurtosis:</th>      <td> 5.651</td>  <th>  Cond. No.          </th> <td>7.37e+04</td>\n",
       "</tr>\n",
       "</table><br/><br/>Notes:<br/>[1] Standard Errors assume that the covariance matrix of the errors is correctly specified.<br/>[2] The condition number is large, 7.37e+04. This might indicate that there are<br/>strong multicollinearity or other numerical problems."
      ],
      "text/plain": [
       "<class 'statsmodels.iolib.summary.Summary'>\n",
       "\"\"\"\n",
       "                            OLS Regression Results                            \n",
       "==============================================================================\n",
       "Dep. Variable:                      y   R-squared:                       0.862\n",
       "Model:                            OLS   Adj. R-squared:                  0.860\n",
       "Method:                 Least Squares   F-statistic:                     537.8\n",
       "Date:                Fri, 17 Mar 2023   Prob (F-statistic):               0.00\n",
       "Time:                        20:09:43   Log-Likelihood:                -936.93\n",
       "No. Observations:                 959   AIC:                             1898.\n",
       "Df Residuals:                     947   BIC:                             1956.\n",
       "Df Model:                          11                                         \n",
       "Covariance Type:            nonrobust                                         \n",
       "==============================================================================\n",
       "                 coef    std err          t      P>|t|      [0.025      0.975]\n",
       "------------------------------------------------------------------------------\n",
       "const       -628.9241     17.735    -35.462      0.000    -663.729    -594.120\n",
       "x1             1.8367      0.181     10.126      0.000       1.481       2.193\n",
       "x2             0.3826      0.163      2.346      0.019       0.063       0.703\n",
       "x3            -0.0068      0.001     -7.290      0.000      -0.009      -0.005\n",
       "x4           651.8702     17.661     36.910      0.000     617.211     686.530\n",
       "x5            -0.2607      0.016    -15.895      0.000      -0.293      -0.229\n",
       "x6            -3.9145      0.505     -7.750      0.000      -4.906      -2.923\n",
       "x7             0.0111      0.003      4.071      0.000       0.006       0.016\n",
       "x8            -5.2223      0.174    -30.075      0.000      -5.563      -4.881\n",
       "x9            -0.6417      0.143     -4.473      0.000      -0.923      -0.360\n",
       "x10            0.5146      0.032     16.236      0.000       0.452       0.577\n",
       "x11            0.0465      0.034      1.380      0.168      -0.020       0.113\n",
       "==============================================================================\n",
       "Omnibus:                      103.402   Durbin-Watson:                   1.953\n",
       "Prob(Omnibus):                  0.000   Jarque-Bera (JB):              323.932\n",
       "Skew:                           0.519   Prob(JB):                     4.56e-71\n",
       "Kurtosis:                       5.651   Cond. No.                     7.37e+04\n",
       "==============================================================================\n",
       "\n",
       "Notes:\n",
       "[1] Standard Errors assume that the covariance matrix of the errors is correctly specified.\n",
       "[2] The condition number is large, 7.37e+04. This might indicate that there are\n",
       "strong multicollinearity or other numerical problems.\n",
       "\"\"\""
      ]
     },
     "execution_count": 275,
     "metadata": {},
     "output_type": "execute_result"
    }
   ],
   "source": [
    "\n",
    "#add code here to model and fit the new X with the y, and show the model summary and how well the model performmed:\n",
    "#code to split the data, and create & fit the model:\n",
    "allSeriesWithoutConst = red_wines[['citric acid',\n",
    "                                    'volatile acidity',\n",
    "                                    'total sulfur dioxide',\n",
    "                                    'density', \n",
    "                                    'residual sugar', \n",
    "                                    'chlorides', \n",
    "                                    'free sulfur dioxide',\n",
    "                                    'pH',\n",
    "                                    'sulphates',\n",
    "                                    'alcohol',\n",
    "                                    'quality'\n",
    "                                ]]\n",
    "\n",
    "#adds the constant to the vif comparison at the end\n",
    "allSeries=sm.add_constant(allSeriesWithoutConst)\n",
    "newAllX = allSeries.to_numpy()\n",
    "\n",
    "#splits the data for training and testing\n",
    "x_multi_train, x_multi_test, y_multi_train, y_multi_test = train_test_split(newAllX, y_fixed_acidity, test_size=0.4, random_state=101)\n",
    "\n",
    "#creates the model with training data\n",
    "allModel=sm.OLS(y_multi_train,x_multi_train).fit()\n",
    "\n",
    "#code to show model summary and how well the model performmed\n",
    "allModel.summary()"
   ]
  },
  {
   "cell_type": "markdown",
   "metadata": {},
   "source": [
    "The highest combination is all the columns that are not the y\n",
    "\n",
    "For some reason the adjusted r on the summary is lower then the one from the combination checking.\n",
    "\n",
    "This might be because the whole data set is used instead of the training subset on the previous one.\n"
   ]
  },
  {
   "cell_type": "markdown",
   "metadata": {},
   "source": [
    "# 5. Another splitting method"
   ]
  },
  {
   "cell_type": "markdown",
   "metadata": {},
   "source": [
    "To obtain the the test and training data we used the so-called hold-out method. However other methods also exist for this. In this chapter an explanation **and practical example** is given for the K-folds cross validation"
   ]
  },
  {
   "cell_type": "markdown",
   "metadata": {},
   "source": [
    "In K-Folds the data is split into different subsets (folds). K-1 subsets are used to train the model and the last fold is used test the data. "
   ]
  },
  {
   "cell_type": "code",
   "execution_count": 71,
   "metadata": {},
   "outputs": [
    {
     "name": "stdout",
     "output_type": "stream",
     "text": [
      "<class 'pandas.core.frame.DataFrame'>\n"
     ]
    },
    {
     "data": {
      "text/html": [
       "<div>\n",
       "<style scoped>\n",
       "    .dataframe tbody tr th:only-of-type {\n",
       "        vertical-align: middle;\n",
       "    }\n",
       "\n",
       "    .dataframe tbody tr th {\n",
       "        vertical-align: top;\n",
       "    }\n",
       "\n",
       "    .dataframe thead th {\n",
       "        text-align: right;\n",
       "    }\n",
       "</style>\n",
       "<table border=\"1\" class=\"dataframe\">\n",
       "  <thead>\n",
       "    <tr style=\"text-align: right;\">\n",
       "      <th></th>\n",
       "      <th>citric acid</th>\n",
       "    </tr>\n",
       "  </thead>\n",
       "  <tbody>\n",
       "    <tr>\n",
       "      <th>1</th>\n",
       "      <td>0.00</td>\n",
       "    </tr>\n",
       "    <tr>\n",
       "      <th>2</th>\n",
       "      <td>0.04</td>\n",
       "    </tr>\n",
       "    <tr>\n",
       "      <th>4</th>\n",
       "      <td>0.00</td>\n",
       "    </tr>\n",
       "    <tr>\n",
       "      <th>5</th>\n",
       "      <td>0.00</td>\n",
       "    </tr>\n",
       "    <tr>\n",
       "      <th>8</th>\n",
       "      <td>0.02</td>\n",
       "    </tr>\n",
       "    <tr>\n",
       "      <th>...</th>\n",
       "      <td>...</td>\n",
       "    </tr>\n",
       "    <tr>\n",
       "      <th>1590</th>\n",
       "      <td>0.15</td>\n",
       "    </tr>\n",
       "    <tr>\n",
       "      <th>1591</th>\n",
       "      <td>0.09</td>\n",
       "    </tr>\n",
       "    <tr>\n",
       "      <th>1595</th>\n",
       "      <td>0.10</td>\n",
       "    </tr>\n",
       "    <tr>\n",
       "      <th>1596</th>\n",
       "      <td>0.13</td>\n",
       "    </tr>\n",
       "    <tr>\n",
       "      <th>1598</th>\n",
       "      <td>0.47</td>\n",
       "    </tr>\n",
       "  </tbody>\n",
       "</table>\n",
       "<p>800 rows × 1 columns</p>\n",
       "</div>"
      ],
      "text/plain": [
       "      citric acid\n",
       "1            0.00\n",
       "2            0.04\n",
       "4            0.00\n",
       "5            0.00\n",
       "8            0.02\n",
       "...           ...\n",
       "1590         0.15\n",
       "1591         0.09\n",
       "1595         0.10\n",
       "1596         0.13\n",
       "1598         0.47\n",
       "\n",
       "[800 rows x 1 columns]"
      ]
     },
     "execution_count": 71,
     "metadata": {},
     "output_type": "execute_result"
    }
   ],
   "source": [
    "#code using your method\n",
    "from sklearn.model_selection import KFold # import KFold\n",
    "x_citric = red_wines[['citric acid']]\n",
    "y_kfold = red_wines[\"fixed acidity\"]\n",
    "\n",
    "kf = KFold(n_splits=2, random_state=False, shuffle=True) # Define the split - into 2 folds \n",
    "kf.get_n_splits(x_citric) # returns the number of splitting iterations in the cross-validator\n",
    "print(type(x_citric))\n",
    "\n",
    "for train_index, test_index in kf.split(x_citric):\n",
    "    X_kfold_train, X_kfold_test = x_citric.iloc[train_index], x_citric.iloc[test_index]\n",
    "    y_kfold_train, y_kfold_test = y_kfold[train_index], y_kfold[test_index]\n",
    "\n",
    "X_kfold_train"
   ]
  },
  {
   "cell_type": "code",
   "execution_count": 69,
   "metadata": {},
   "outputs": [
    {
     "data": {
      "text/html": [
       "<table class=\"simpletable\">\n",
       "<caption>OLS Regression Results</caption>\n",
       "<tr>\n",
       "  <th>Dep. Variable:</th>      <td>fixed acidity</td>  <th>  R-squared:         </th> <td>   0.462</td> \n",
       "</tr>\n",
       "<tr>\n",
       "  <th>Model:</th>                   <td>OLS</td>       <th>  Adj. R-squared:    </th> <td>   0.461</td> \n",
       "</tr>\n",
       "<tr>\n",
       "  <th>Method:</th>             <td>Least Squares</td>  <th>  F-statistic:       </th> <td>   685.6</td> \n",
       "</tr>\n",
       "<tr>\n",
       "  <th>Date:</th>             <td>Wed, 15 Mar 2023</td> <th>  Prob (F-statistic):</th> <td>1.44e-109</td>\n",
       "</tr>\n",
       "<tr>\n",
       "  <th>Time:</th>                 <td>17:51:30</td>     <th>  Log-Likelihood:    </th> <td> -1350.2</td> \n",
       "</tr>\n",
       "<tr>\n",
       "  <th>No. Observations:</th>      <td>   800</td>      <th>  AIC:               </th> <td>   2704.</td> \n",
       "</tr>\n",
       "<tr>\n",
       "  <th>Df Residuals:</th>          <td>   798</td>      <th>  BIC:               </th> <td>   2714.</td> \n",
       "</tr>\n",
       "<tr>\n",
       "  <th>Df Model:</th>              <td>     1</td>      <th>                     </th>     <td> </td>    \n",
       "</tr>\n",
       "<tr>\n",
       "  <th>Covariance Type:</th>      <td>nonrobust</td>    <th>                     </th>     <td> </td>    \n",
       "</tr>\n",
       "</table>\n",
       "<table class=\"simpletable\">\n",
       "<tr>\n",
       "       <td></td>          <th>coef</th>     <th>std err</th>      <th>t</th>      <th>P>|t|</th>  <th>[0.025</th>    <th>0.975]</th>  \n",
       "</tr>\n",
       "<tr>\n",
       "  <th>const</th>       <td>    6.6180</td> <td>    0.080</td> <td>   82.749</td> <td> 0.000</td> <td>    6.461</td> <td>    6.775</td>\n",
       "</tr>\n",
       "<tr>\n",
       "  <th>citric acid</th> <td>    6.2671</td> <td>    0.239</td> <td>   26.184</td> <td> 0.000</td> <td>    5.797</td> <td>    6.737</td>\n",
       "</tr>\n",
       "</table>\n",
       "<table class=\"simpletable\">\n",
       "<tr>\n",
       "  <th>Omnibus:</th>       <td>32.430</td> <th>  Durbin-Watson:     </th> <td>   1.572</td>\n",
       "</tr>\n",
       "<tr>\n",
       "  <th>Prob(Omnibus):</th> <td> 0.000</td> <th>  Jarque-Bera (JB):  </th> <td>  71.927</td>\n",
       "</tr>\n",
       "<tr>\n",
       "  <th>Skew:</th>          <td> 0.205</td> <th>  Prob(JB):          </th> <td>2.41e-16</td>\n",
       "</tr>\n",
       "<tr>\n",
       "  <th>Kurtosis:</th>      <td> 4.411</td> <th>  Cond. No.          </th> <td>    5.56</td>\n",
       "</tr>\n",
       "</table><br/><br/>Notes:<br/>[1] Standard Errors assume that the covariance matrix of the errors is correctly specified."
      ],
      "text/plain": [
       "<class 'statsmodels.iolib.summary.Summary'>\n",
       "\"\"\"\n",
       "                            OLS Regression Results                            \n",
       "==============================================================================\n",
       "Dep. Variable:          fixed acidity   R-squared:                       0.462\n",
       "Model:                            OLS   Adj. R-squared:                  0.461\n",
       "Method:                 Least Squares   F-statistic:                     685.6\n",
       "Date:                Wed, 15 Mar 2023   Prob (F-statistic):          1.44e-109\n",
       "Time:                        17:51:30   Log-Likelihood:                -1350.2\n",
       "No. Observations:                 800   AIC:                             2704.\n",
       "Df Residuals:                     798   BIC:                             2714.\n",
       "Df Model:                           1                                         \n",
       "Covariance Type:            nonrobust                                         \n",
       "===============================================================================\n",
       "                  coef    std err          t      P>|t|      [0.025      0.975]\n",
       "-------------------------------------------------------------------------------\n",
       "const           6.6180      0.080     82.749      0.000       6.461       6.775\n",
       "citric acid     6.2671      0.239     26.184      0.000       5.797       6.737\n",
       "==============================================================================\n",
       "Omnibus:                       32.430   Durbin-Watson:                   1.572\n",
       "Prob(Omnibus):                  0.000   Jarque-Bera (JB):               71.927\n",
       "Skew:                           0.205   Prob(JB):                     2.41e-16\n",
       "Kurtosis:                       4.411   Cond. No.                         5.56\n",
       "==============================================================================\n",
       "\n",
       "Notes:\n",
       "[1] Standard Errors assume that the covariance matrix of the errors is correctly specified.\n",
       "\"\"\""
      ]
     },
     "execution_count": 69,
     "metadata": {},
     "output_type": "execute_result"
    }
   ],
   "source": [
    "#code to show the results of the statsmodels.api summary\n",
    "X_kfold_train=sm.add_constant(X_kfold_train)\n",
    "newModel = sm.OLS(y_kfold_train,X_kfold_train).fit()\n",
    "newModel.summary()"
   ]
  },
  {
   "cell_type": "markdown",
   "metadata": {},
   "source": [
    "The results are simular to the Hold-out method. The k-fold has used half of the dataset for training in this example. With the Hold-out method the distribution was 60/40."
   ]
  },
  {
   "cell_type": "markdown",
   "metadata": {},
   "source": [
    "# 6. A New Technique"
   ]
  },
  {
   "cell_type": "markdown",
   "metadata": {},
   "source": [
    "So far, we only used the 'basic' simple linear regression (the bivariate) and multiple linear regression. However, there are many variations, as also seen on the slides. In this chapter the \\<your regression method> is explained."
   ]
  },
  {
   "cell_type": "markdown",
   "metadata": {},
   "source": [
    "<span style='background:yellow'>\\<explain THOROUGHLY the method. How does it work, what makes it different from the regular linear regression, in which situations might this be optimal. You will need more cells than the ones below></span>"
   ]
  },
  {
   "cell_type": "code",
   "execution_count": null,
   "metadata": {},
   "outputs": [],
   "source": [
    "#code using your method\n"
   ]
  },
  {
   "cell_type": "markdown",
   "metadata": {},
   "source": [
    "# 7. Surprise"
   ]
  },
  {
   "cell_type": "markdown",
   "metadata": {},
   "source": [
    "There is a lot written about regression analysis, and although a lot was discussed during the lecture, that was just a tip of an iceberg. One thing for example that was not mentioned is \\<start explaining from here....>"
   ]
  },
  {
   "cell_type": "markdown",
   "metadata": {},
   "source": [
    "----this chapter is for the 10. It should be something substantial, related to regression and not already discussed----\n",
    "\n",
    "---examples could be an explanation on the Gradient Descent approach to linear programming, or using Matrix Algebra to obtain the linear regression equation----"
   ]
  },
  {
   "cell_type": "code",
   "execution_count": null,
   "metadata": {},
   "outputs": [],
   "source": []
  }
 ],
 "metadata": {
  "kernelspec": {
   "display_name": "Python 3",
   "language": "python",
   "name": "python3"
  },
  "language_info": {
   "codemirror_mode": {
    "name": "ipython",
    "version": 3
   },
   "file_extension": ".py",
   "mimetype": "text/x-python",
   "name": "python",
   "nbconvert_exporter": "python",
   "pygments_lexer": "ipython3",
   "version": "3.6.13"
  }
 },
 "nbformat": 4,
 "nbformat_minor": 4
}

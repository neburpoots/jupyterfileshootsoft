{
 "cells": [
  {
   "cell_type": "code",
   "execution_count": null,
   "metadata": {},
   "outputs": [],
   "source": [
    "import cv2\n",
    "import numpy as np\n",
    "\n",
    "#Variables\n",
    "\n",
    "#Function\n",
    "\n",
    "def draw_rectangle(event,x,y,flags,params)\n",
    "\n",
    "#Showing the image\n",
    "\n",
    "img = np.zeros((512,512,3))\n",
    "\n",
    "cv2.namedWindow(winname='my_drawing')\n",
    "\n",
    "cv2.setMouseCallback('my_drawing',draw_rectangle)\n",
    "\n",
    "while True:\n",
    "\n",
    "\n",
    "\n"
   ]
  },
  {
   "cell_type": "code",
   "execution_count": null,
   "metadata": {},
   "outputs": [],
   "source": []
  }
 ],
 "metadata": {
  "kernelspec": {
   "display_name": "Python 3",
   "language": "python",
   "name": "python3"
  },
  "language_info": {
   "name": ""
  }
 },
 "nbformat": 4,
 "nbformat_minor": 2
}

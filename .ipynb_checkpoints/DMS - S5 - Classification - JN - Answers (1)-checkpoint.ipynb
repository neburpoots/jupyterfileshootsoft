{
 "cells": [
  {
   "cell_type": "markdown",
   "metadata": {},
   "source": [
    "# Data Mining and Statistics\n",
    "## Session 5 - Classification - Answers\n",
    "*Peter Stikker - Haarlem, the Netherlands - v 1.1*"
   ]
  },
  {
   "cell_type": "markdown",
   "metadata": {},
   "source": [
    "----"
   ]
  },
  {
   "cell_type": "code",
   "execution_count": null,
   "metadata": {},
   "outputs": [],
   "source": [
    "import pandas as pd\n",
    "import numpy as np\n",
    "from sklearn.naive_bayes import CategoricalNB"
   ]
  },
  {
   "cell_type": "markdown",
   "metadata": {},
   "source": [
    "**Exercise 1**\n",
    "\n",
    "Determine who is most likely to win in a match between a Southpaw fighter and a Orthodox player.\n",
    "\n",
    "Use the UFC2019.csv dataset and of course a naive Bayesian analysis."
   ]
  },
  {
   "cell_type": "markdown",
   "metadata": {},
   "source": [
    "***my answer***\n",
    "\n",
    "First load the data."
   ]
  },
  {
   "cell_type": "code",
   "execution_count": null,
   "metadata": {},
   "outputs": [],
   "source": [
    "UFCdata=pd.read_csv('data/UFC2019.csv',sep = ',', header=0)\n",
    "UFCdata.head()"
   ]
  },
  {
   "cell_type": "markdown",
   "metadata": {},
   "source": [
    "I don't need all the data, only the winner, and the stance from each player:"
   ]
  },
  {
   "cell_type": "code",
   "execution_count": null,
   "metadata": {},
   "outputs": [],
   "source": [
    "#Create subset of data and remove missing values\n",
    "UFCsel=UFCdata[[\"Winner\",\"R_Stance\",\"B_Stance\"]]\n",
    "UFCsel=UFCsel.dropna()\n",
    "UFCsel.head()"
   ]
  },
  {
   "cell_type": "markdown",
   "metadata": {},
   "source": [
    "Now let's assign each field to the appropriate type and then convert it to a numerical version:"
   ]
  },
  {
   "cell_type": "code",
   "execution_count": null,
   "metadata": {},
   "outputs": [],
   "source": [
    "#Convert the panda fields to categorical\n",
    "UFCsel[\"Winner\"]=pd.Categorical(UFCsel[\"Winner\"])\n",
    "UFCsel[\"R_Stance\"]=pd.Categorical(UFCsel[\"R_Stance\"])\n",
    "UFCsel[\"B_Stance\"]=pd.Categorical(UFCsel[\"B_Stance\"])\n",
    "\n",
    "#get the numerical values as a numpy array\n",
    "selNum = np.asarray(UFCsel[\"Winner\"].cat.codes)\n",
    "selNum = np.dstack((selNum, np.asarray(UFCsel[\"R_Stance\"].cat.codes)))\n",
    "selNum = np.dstack((selNum, np.asarray(UFCsel[\"B_Stance\"].cat.codes)))\n",
    "selNum = np.squeeze(selNum)\n",
    "\n",
    "selNum[0:5]"
   ]
  },
  {
   "cell_type": "markdown",
   "metadata": {},
   "source": [
    "Creating the model and testing it's accuracy:"
   ]
  },
  {
   "cell_type": "code",
   "execution_count": null,
   "metadata": {},
   "outputs": [],
   "source": [
    "#Set the independent and dependent variable(s)\n",
    "X=selNum[:,1:3]     ##the R_stance and B_Stance\n",
    "y=selNum[:,0]       ##the selection\n",
    "X"
   ]
  },
  {
   "cell_type": "code",
   "execution_count": null,
   "metadata": {},
   "outputs": [],
   "source": [
    "#Create the model\n",
    "clf = CategoricalNB()\n",
    "clf = clf.fit(X, y)\n",
    "\n",
    "#Show some results\n",
    "print(clf.score(X,y))"
   ]
  },
  {
   "cell_type": "markdown",
   "metadata": {},
   "source": [
    "So, the model has a 67% of a correct prediction."
   ]
  },
  {
   "cell_type": "markdown",
   "metadata": {},
   "source": [
    "To see which code was used for Southpaw, and Orthodox, we can look at the categories of Stance:"
   ]
  },
  {
   "cell_type": "code",
   "execution_count": null,
   "metadata": {},
   "outputs": [],
   "source": [
    "print(UFCsel[\"R_Stance\"].cat.categories)\n",
    "print(UFCsel[\"B_Stance\"].cat.categories)"
   ]
  },
  {
   "cell_type": "markdown",
   "metadata": {},
   "source": [
    "So an Southpaw would be 3 and Orthodox a 1 (we start the counting from 0)."
   ]
  },
  {
   "cell_type": "markdown",
   "metadata": {},
   "source": [
    "To get the prediction:"
   ]
  },
  {
   "cell_type": "code",
   "execution_count": null,
   "metadata": {},
   "outputs": [],
   "source": [
    "myTest=[3,1]\n",
    "myTest=np.array(myTest)\n",
    "myTest = myTest.reshape(-1, 2)\n",
    "clf.predict(myTest)"
   ]
  },
  {
   "cell_type": "markdown",
   "metadata": {},
   "source": [
    "The predicted winner is....2.\n",
    "\n",
    "Which one is this:"
   ]
  },
  {
   "cell_type": "code",
   "execution_count": null,
   "metadata": {},
   "outputs": [],
   "source": [
    "UFCsel[\"Winner\"].cat.categories"
   ]
  },
  {
   "cell_type": "markdown",
   "metadata": {},
   "source": [
    "Ah, the predicted winner is 'Red'."
   ]
  },
  {
   "cell_type": "markdown",
   "metadata": {},
   "source": [
    "**Exercise 2**\n",
    "\n",
    "Another example taken from: https://www.saedsayad.com/naive_bayesian.htm. The data is already available as 'playGolf.csv'. Load this data and create a model to predict if we can go Play or not.\n",
    "\n",
    "If you have time to spare, you could look into the conversion of the categories into the numerical ones by using the LabelEncoder option of sklearn."
   ]
  },
  {
   "cell_type": "markdown",
   "metadata": {},
   "source": [
    "***My answer***"
   ]
  },
  {
   "cell_type": "code",
   "execution_count": null,
   "metadata": {},
   "outputs": [],
   "source": [
    "df=pd.read_csv('data/playGolf.csv', sep = ';', header=0)\n",
    "df"
   ]
  },
  {
   "cell_type": "code",
   "execution_count": null,
   "metadata": {},
   "outputs": [],
   "source": [
    "df[\"Outlook\"]=pd.Categorical(df[\"Outlook\"])\n",
    "df[\"Temp\"]=pd.Categorical(df[\"Temp\"])\n",
    "df[\"Humidity\"]=pd.Categorical(df[\"Humidity\"])\n",
    "df[\"Windy\"]=pd.Categorical(df[\"Windy\"])\n",
    "df[\"Play\"]=pd.Categorical(df[\"Play\"])\n",
    "\n",
    "arr = np.asarray(df[\"Outlook\"].cat.codes)\n",
    "arr = np.dstack((arr, np.asarray(df[\"Temp\"].cat.codes)))\n",
    "arr = np.dstack((arr, np.asarray(df[\"Humidity\"].cat.codes)))\n",
    "arr = np.dstack((arr, np.asarray(df[\"Windy\"].cat.codes)))\n",
    "arr = np.dstack((arr, np.asarray(df[\"Play\"].cat.codes)))\n",
    "arr = np.squeeze(arr)\n",
    "\n",
    "X=arr[:,0:4]\n",
    "y=arr[:,4] \n",
    "\n",
    "clf = CategoricalNB()\n",
    "model = clf.fit(X, y)\n",
    "model.score(X,y)"
   ]
  },
  {
   "cell_type": "code",
   "execution_count": null,
   "metadata": {},
   "outputs": [],
   "source": []
  }
 ],
 "metadata": {
  "kernelspec": {
   "display_name": "Python 3 (ipykernel)",
   "language": "python",
   "name": "python3"
  },
  "language_info": {
   "codemirror_mode": {
    "name": "ipython",
    "version": 3
   },
   "file_extension": ".py",
   "mimetype": "text/x-python",
   "name": "python",
   "nbconvert_exporter": "python",
   "pygments_lexer": "ipython3",
   "version": "3.9.7"
  }
 },
 "nbformat": 4,
 "nbformat_minor": 4
}
